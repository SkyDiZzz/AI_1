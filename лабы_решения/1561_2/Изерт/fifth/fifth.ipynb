{
 "cells": [
  {
   "cell_type": "code",
   "execution_count": 66,
   "metadata": {},
   "outputs": [],
   "source": [
    "import matplotlib.pyplot as plt\n",
    "import seaborn as sns\n",
    "import numpy as np\n",
    "import pandas as pd\n",
    "import scipy as sp"
   ]
  },
  {
   "cell_type": "markdown",
   "metadata": {},
   "source": [
    "### 1.Загрузка данных"
   ]
  },
  {
   "cell_type": "code",
   "execution_count": 67,
   "metadata": {},
   "outputs": [
    {
     "name": "stdout",
     "output_type": "stream",
     "text": [
      "SepalLengthCm    150\n",
      "SepalWidthCm     150\n",
      "PetalLengthCm    150\n",
      "PetalWidthCm     150\n",
      "Species          150\n",
      "dtype: int64\n"
     ]
    },
    {
     "data": {
      "text/html": [
       "<div>\n",
       "<style scoped>\n",
       "    .dataframe tbody tr th:only-of-type {\n",
       "        vertical-align: middle;\n",
       "    }\n",
       "\n",
       "    .dataframe tbody tr th {\n",
       "        vertical-align: top;\n",
       "    }\n",
       "\n",
       "    .dataframe thead th {\n",
       "        text-align: right;\n",
       "    }\n",
       "</style>\n",
       "<table border=\"1\" class=\"dataframe\">\n",
       "  <thead>\n",
       "    <tr style=\"text-align: right;\">\n",
       "      <th></th>\n",
       "      <th>SepalLengthCm</th>\n",
       "      <th>SepalWidthCm</th>\n",
       "      <th>PetalLengthCm</th>\n",
       "      <th>PetalWidthCm</th>\n",
       "      <th>Species</th>\n",
       "    </tr>\n",
       "    <tr>\n",
       "      <th>Id</th>\n",
       "      <th></th>\n",
       "      <th></th>\n",
       "      <th></th>\n",
       "      <th></th>\n",
       "      <th></th>\n",
       "    </tr>\n",
       "  </thead>\n",
       "  <tbody>\n",
       "    <tr>\n",
       "      <th>1</th>\n",
       "      <td>5.1</td>\n",
       "      <td>3.5</td>\n",
       "      <td>1.4</td>\n",
       "      <td>0.2</td>\n",
       "      <td>Iris-setosa</td>\n",
       "    </tr>\n",
       "    <tr>\n",
       "      <th>2</th>\n",
       "      <td>4.9</td>\n",
       "      <td>3.0</td>\n",
       "      <td>1.4</td>\n",
       "      <td>0.2</td>\n",
       "      <td>Iris-setosa</td>\n",
       "    </tr>\n",
       "    <tr>\n",
       "      <th>3</th>\n",
       "      <td>4.7</td>\n",
       "      <td>3.2</td>\n",
       "      <td>1.3</td>\n",
       "      <td>0.2</td>\n",
       "      <td>Iris-setosa</td>\n",
       "    </tr>\n",
       "    <tr>\n",
       "      <th>4</th>\n",
       "      <td>4.6</td>\n",
       "      <td>3.1</td>\n",
       "      <td>1.5</td>\n",
       "      <td>0.2</td>\n",
       "      <td>Iris-setosa</td>\n",
       "    </tr>\n",
       "    <tr>\n",
       "      <th>5</th>\n",
       "      <td>5.0</td>\n",
       "      <td>3.6</td>\n",
       "      <td>1.4</td>\n",
       "      <td>0.2</td>\n",
       "      <td>Iris-setosa</td>\n",
       "    </tr>\n",
       "  </tbody>\n",
       "</table>\n",
       "</div>"
      ],
      "text/plain": [
       "    SepalLengthCm  SepalWidthCm  PetalLengthCm  PetalWidthCm      Species\n",
       "Id                                                                       \n",
       "1             5.1           3.5            1.4           0.2  Iris-setosa\n",
       "2             4.9           3.0            1.4           0.2  Iris-setosa\n",
       "3             4.7           3.2            1.3           0.2  Iris-setosa\n",
       "4             4.6           3.1            1.5           0.2  Iris-setosa\n",
       "5             5.0           3.6            1.4           0.2  Iris-setosa"
      ]
     },
     "execution_count": 67,
     "metadata": {},
     "output_type": "execute_result"
    }
   ],
   "source": [
    "df = pd.read_csv('../../../../data/Iris.csv', index_col='Id')\n",
    "print(df.count())\n",
    "df.head()"
   ]
  },
  {
   "cell_type": "markdown",
   "metadata": {},
   "source": [
    "### 2.Предварительная обработка"
   ]
  },
  {
   "cell_type": "code",
   "execution_count": 12,
   "metadata": {},
   "outputs": [],
   "source": [
    "import sklearn.pipeline as pipeline\n",
    "import sklearn.preprocessing as preprocessing\n",
    "from sklearn.base import BaseEstimator, TransformerMixin\n",
    "from keras.utils import to_categorical"
   ]
  },
  {
   "cell_type": "code",
   "execution_count": 57,
   "metadata": {},
   "outputs": [],
   "source": [
    "class FillNa(TransformerMixin, BaseEstimator):\n",
    "    def fit(self, df: pd.DataFrame, y=None):\n",
    "        return self\n",
    "    \n",
    "    def transform(self, df: pd.DataFrame, y=None) -> pd.DataFrame:\n",
    "        return df.interpolate(method='cubic').fillna(method='pad').dropna()\n",
    "    \n",
    "\n",
    "class DropOutlet(TransformerMixin, BaseEstimator):\n",
    "    def fit(self, df: pd.DataFrame, y=None):\n",
    "        self.std = df.std()\n",
    "        self.columns = self.std.index.values\n",
    "        return self\n",
    "    \n",
    "    def transform(self, df: pd.DataFrame, y=None) -> pd.DataFrame:\n",
    "        df_cols = df[self.columns]\n",
    "        return df[ (df_cols - df_cols.mean()).abs() <= 3*self.std].dropna()\n",
    "    \n",
    "    \n",
    "class PandasToNumpy(BaseEstimator):\n",
    "    def fit(self, data : pd.DataFrame, y=None):\n",
    "        return self\n",
    "    \n",
    "    def transform(self, data: pd.DataFrame, y=None) -> np.ndarray:\n",
    "        return data.values\n",
    "    \n",
    "class SparseToArray(TransformerMixin, BaseEstimator):\n",
    "    def fit(self, df, y=None):\n",
    "        return self\n",
    "    \n",
    "    def transform(self, df, y=None):\n",
    "        return df.toarray()\n",
    "    \n",
    "    \n",
    "class ModifyLabelEncoder(preprocessing.LabelEncoder):\n",
    "    def fit(self, df, y=None):\n",
    "        return super().fit(df)\n",
    "    \n",
    "    def transform(self, df, y=None):\n",
    "        return super().transform(df)\n",
    "    \n",
    "    def fit_transform(self, df, y=None):\n",
    "        return super().fit_transform(df)\n",
    "    \n",
    "class ExpandDims(TransformerMixin, BaseEstimator):\n",
    "    \"\"\"\n",
    "    Увеличение на 1 размерности массива в нужной оси \n",
    "    \"\"\"\n",
    "    def __init__(self, axis):\n",
    "        self.axis = axis\n",
    "        \n",
    "    def fit(self, df, y=None):\n",
    "        return self\n",
    "    \n",
    "    def transform(self, df, y=None):\n",
    "        return np.expand_dims(df, axis=self.axis)\n",
    "        \n",
    "    "
   ]
  },
  {
   "cell_type": "code",
   "execution_count": 58,
   "metadata": {},
   "outputs": [],
   "source": [
    "x_data = df[df.columns[:-1]].copy()\n",
    "# в числовых данных getdummies не даст эффекта АСТАНАВИТЕС"
   ]
  },
  {
   "cell_type": "code",
   "execution_count": 59,
   "metadata": {},
   "outputs": [],
   "source": [
    "y_data = df[df.columns[-1]].copy()"
   ]
  },
  {
   "cell_type": "code",
   "execution_count": 60,
   "metadata": {},
   "outputs": [],
   "source": [
    "fill_na_pipe = pipeline.Pipeline([\n",
    "    ('fill', FillNa())\n",
    "])\n",
    "pipe_outlet = pipeline.Pipeline([\n",
    "    ('fill_na', fill_na_pipe),\n",
    "    ('drop_outlet', DropOutlet())\n",
    "])\n",
    "\n",
    "outletless_data_x = pipe_outlet.fit_transform(x_data)"
   ]
  },
  {
   "cell_type": "code",
   "execution_count": 61,
   "metadata": {},
   "outputs": [],
   "source": [
    "outletless_data_y = y_data[fill_na_pipe.transform(y_data).index.isin(outletless_data_x.index) ]"
   ]
  },
  {
   "cell_type": "code",
   "execution_count": 62,
   "metadata": {},
   "outputs": [],
   "source": [
    "pipe_x = pipeline.Pipeline([\n",
    "    ('to_matrix', PandasToNumpy()),\n",
    "    ('norm', preprocessing.MinMaxScaler())\n",
    "])"
   ]
  },
  {
   "cell_type": "code",
   "execution_count": 63,
   "metadata": {},
   "outputs": [],
   "source": [
    "pipe_y = pipeline.Pipeline([\n",
    "    ('to_matrix', PandasToNumpy()),\n",
    "    ('label_encoder', ModifyLabelEncoder()),\n",
    "    ('expand_dims', ExpandDims(axis=1)),\n",
    "    ('one_hot_encoder', preprocessing.OneHotEncoder(sparse=False)),\n",
    "])"
   ]
  },
  {
   "cell_type": "code",
   "execution_count": 64,
   "metadata": {},
   "outputs": [
    {
     "name": "stdout",
     "output_type": "stream",
     "text": [
      "(149, 4) (149, 3)\n"
     ]
    },
    {
     "name": "stderr",
     "output_type": "stream",
     "text": [
      "c:\\users\\apc\\appdata\\local\\programs\\python\\python36\\lib\\site-packages\\sklearn\\preprocessing\\_encoders.py:368: FutureWarning: The handling of integer data will change in version 0.22. Currently, the categories are determined based on the range [0, max(values)], while in the future they will be determined based on the unique values.\n",
      "If you want the future behaviour and silence this warning, you can specify \"categories='auto'\".\n",
      "In case you used a LabelEncoder before this OneHotEncoder to convert the categories to integers, then you can now use the OneHotEncoder directly.\n",
      "  warnings.warn(msg, FutureWarning)\n"
     ]
    }
   ],
   "source": [
    "number_data_x = pipe_x.fit_transform(outletless_data_x)\n",
    "number_data_y = pipe_y.fit_transform(outletless_data_y)\n",
    "\n",
    "print(number_data_x.shape, number_data_y.shape)"
   ]
  },
  {
   "cell_type": "code",
   "execution_count": 65,
   "metadata": {},
   "outputs": [
    {
     "data": {
      "text/plain": [
       "(array([[0.22222222, 0.68181818, 0.06779661, 0.04166667],\n",
       "        [0.16666667, 0.45454545, 0.06779661, 0.04166667],\n",
       "        [0.11111111, 0.54545455, 0.05084746, 0.04166667],\n",
       "        [0.08333333, 0.5       , 0.08474576, 0.04166667],\n",
       "        [0.19444444, 0.72727273, 0.06779661, 0.04166667],\n",
       "        [0.30555556, 0.86363636, 0.11864407, 0.125     ],\n",
       "        [0.08333333, 0.63636364, 0.06779661, 0.08333333],\n",
       "        [0.19444444, 0.63636364, 0.08474576, 0.04166667],\n",
       "        [0.02777778, 0.40909091, 0.06779661, 0.04166667],\n",
       "        [0.16666667, 0.5       , 0.08474576, 0.        ]]),\n",
       " array([[1., 0., 0.],\n",
       "        [1., 0., 0.],\n",
       "        [1., 0., 0.],\n",
       "        [1., 0., 0.],\n",
       "        [1., 0., 0.],\n",
       "        [0., 1., 0.],\n",
       "        [0., 1., 0.],\n",
       "        [0., 1., 0.],\n",
       "        [0., 1., 0.],\n",
       "        [0., 1., 0.],\n",
       "        [0., 0., 1.],\n",
       "        [0., 0., 1.],\n",
       "        [0., 0., 1.],\n",
       "        [0., 0., 1.],\n",
       "        [0., 0., 1.]]))"
      ]
     },
     "execution_count": 65,
     "metadata": {},
     "output_type": "execute_result"
    }
   ],
   "source": [
    "number_data_x[:10,:], number_data_y[::10]"
   ]
  },
  {
   "cell_type": "markdown",
   "metadata": {},
   "source": [
    "### 3.Построение нейронной сети без смс и регистрации"
   ]
  },
  {
   "cell_type": "code",
   "execution_count": 76,
   "metadata": {},
   "outputs": [],
   "source": [
    "x_train = number_data_x\n",
    "y_train = number_data_y"
   ]
  },
  {
   "cell_type": "code",
   "execution_count": 70,
   "metadata": {},
   "outputs": [],
   "source": [
    "from keras.layers import Dense\n",
    "from keras.models import Sequential\n",
    "from keras import activations\n",
    "from keras.optimizers import Adam, RMSprop\n",
    "from keras.losses import categorical_crossentropy\n",
    "from keras.metrics import categorical_accuracy"
   ]
  },
  {
   "cell_type": "code",
   "execution_count": 77,
   "metadata": {},
   "outputs": [],
   "source": [
    "model = Sequential()\n",
    "model.add(Dense(10, activation=activations.relu, input_dim=x_train.shape[1]))\n",
    "model.add(Dense(y_train.shape[1], activation=activations.softmax))\n",
    "\n",
    "model.compile(optimizer='adam', loss = categorical_crossentropy, metrics=[categorical_accuracy])"
   ]
  },
  {
   "cell_type": "code",
   "execution_count": 79,
   "metadata": {},
   "outputs": [
    {
     "name": "stdout",
     "output_type": "stream",
     "text": [
      "Epoch 1/100\n",
      " - 0s - loss: 1.0179 - categorical_accuracy: 0.4497\n",
      "Epoch 2/100\n",
      " - 0s - loss: 0.9514 - categorical_accuracy: 0.6779\n",
      "Epoch 3/100\n",
      " - 0s - loss: 0.8870 - categorical_accuracy: 0.6644\n",
      "Epoch 4/100\n",
      " - 0s - loss: 0.8250 - categorical_accuracy: 0.6711\n",
      "Epoch 5/100\n",
      " - 0s - loss: 0.7676 - categorical_accuracy: 0.6644\n",
      "Epoch 6/100\n",
      " - 0s - loss: 0.7149 - categorical_accuracy: 0.6644\n",
      "Epoch 7/100\n",
      " - 0s - loss: 0.6609 - categorical_accuracy: 0.6644\n",
      "Epoch 8/100\n",
      " - 0s - loss: 0.6154 - categorical_accuracy: 0.6644\n",
      "Epoch 9/100\n",
      " - 0s - loss: 0.5818 - categorical_accuracy: 0.6644\n",
      "Epoch 10/100\n",
      " - 0s - loss: 0.5534 - categorical_accuracy: 0.6644\n",
      "Epoch 11/100\n",
      " - 0s - loss: 0.5296 - categorical_accuracy: 0.6779\n",
      "Epoch 12/100\n",
      " - 0s - loss: 0.5113 - categorical_accuracy: 0.6779\n",
      "Epoch 13/100\n",
      " - 0s - loss: 0.4933 - categorical_accuracy: 0.7114\n",
      "Epoch 14/100\n",
      " - 0s - loss: 0.4782 - categorical_accuracy: 0.7315\n",
      "Epoch 15/100\n",
      " - 0s - loss: 0.4642 - categorical_accuracy: 0.7248\n",
      "Epoch 16/100\n",
      " - 0s - loss: 0.4522 - categorical_accuracy: 0.8389\n",
      "Epoch 17/100\n",
      " - 0s - loss: 0.4371 - categorical_accuracy: 0.8591\n",
      "Epoch 18/100\n",
      " - 0s - loss: 0.4266 - categorical_accuracy: 0.8591\n",
      "Epoch 19/100\n",
      " - 0s - loss: 0.4136 - categorical_accuracy: 0.9128\n",
      "Epoch 20/100\n",
      " - 0s - loss: 0.4019 - categorical_accuracy: 0.9195\n",
      "Epoch 21/100\n",
      " - 0s - loss: 0.3939 - categorical_accuracy: 0.9060\n",
      "Epoch 22/100\n",
      " - 0s - loss: 0.3801 - categorical_accuracy: 0.9463\n",
      "Epoch 23/100\n",
      " - 0s - loss: 0.3695 - categorical_accuracy: 0.9396\n",
      "Epoch 24/100\n",
      " - 0s - loss: 0.3605 - categorical_accuracy: 0.9530\n",
      "Epoch 25/100\n",
      " - 0s - loss: 0.3496 - categorical_accuracy: 0.9463\n",
      "Epoch 26/100\n",
      " - 0s - loss: 0.3404 - categorical_accuracy: 0.9463\n",
      "Epoch 27/100\n",
      " - 0s - loss: 0.3327 - categorical_accuracy: 0.9463\n",
      "Epoch 28/100\n",
      " - 0s - loss: 0.3242 - categorical_accuracy: 0.9463\n",
      "Epoch 29/100\n",
      " - 0s - loss: 0.3151 - categorical_accuracy: 0.9530\n",
      "Epoch 30/100\n",
      " - 0s - loss: 0.3069 - categorical_accuracy: 0.9597\n",
      "Epoch 31/100\n",
      " - 0s - loss: 0.2987 - categorical_accuracy: 0.9664\n",
      "Epoch 32/100\n",
      " - 0s - loss: 0.2927 - categorical_accuracy: 0.9530\n",
      "Epoch 33/100\n",
      " - 0s - loss: 0.2857 - categorical_accuracy: 0.9530\n",
      "Epoch 34/100\n",
      " - 0s - loss: 0.2828 - categorical_accuracy: 0.9463\n",
      "Epoch 35/100\n",
      " - 0s - loss: 0.2726 - categorical_accuracy: 0.9530\n",
      "Epoch 36/100\n",
      " - 0s - loss: 0.2665 - categorical_accuracy: 0.9597\n",
      "Epoch 37/100\n",
      " - 0s - loss: 0.2618 - categorical_accuracy: 0.9597\n",
      "Epoch 38/100\n",
      " - 0s - loss: 0.2549 - categorical_accuracy: 0.9664\n",
      "Epoch 39/100\n",
      " - 0s - loss: 0.2491 - categorical_accuracy: 0.9597\n",
      "Epoch 40/100\n",
      " - 0s - loss: 0.2457 - categorical_accuracy: 0.9530\n",
      "Epoch 41/100\n",
      " - 0s - loss: 0.2379 - categorical_accuracy: 0.9664\n",
      "Epoch 42/100\n",
      " - 0s - loss: 0.2333 - categorical_accuracy: 0.9463\n",
      "Epoch 43/100\n",
      " - 0s - loss: 0.2279 - categorical_accuracy: 0.9664\n",
      "Epoch 44/100\n",
      " - 0s - loss: 0.2230 - categorical_accuracy: 0.9597\n",
      "Epoch 45/100\n",
      " - 0s - loss: 0.2208 - categorical_accuracy: 0.9664\n",
      "Epoch 46/100\n",
      " - 0s - loss: 0.2155 - categorical_accuracy: 0.9597\n",
      "Epoch 47/100\n",
      " - 0s - loss: 0.2128 - categorical_accuracy: 0.9597\n",
      "Epoch 48/100\n",
      " - 0s - loss: 0.2075 - categorical_accuracy: 0.9597\n",
      "Epoch 49/100\n",
      " - 0s - loss: 0.2029 - categorical_accuracy: 0.9664\n",
      "Epoch 50/100\n",
      " - 0s - loss: 0.1994 - categorical_accuracy: 0.9664\n",
      "Epoch 51/100\n",
      " - 0s - loss: 0.1957 - categorical_accuracy: 0.9664\n",
      "Epoch 52/100\n",
      " - 0s - loss: 0.1919 - categorical_accuracy: 0.9664\n",
      "Epoch 53/100\n",
      " - 0s - loss: 0.1887 - categorical_accuracy: 0.9597\n",
      "Epoch 54/100\n",
      " - 0s - loss: 0.1866 - categorical_accuracy: 0.9597\n",
      "Epoch 55/100\n",
      " - 0s - loss: 0.1814 - categorical_accuracy: 0.9664\n",
      "Epoch 56/100\n",
      " - 0s - loss: 0.1792 - categorical_accuracy: 0.9664\n",
      "Epoch 57/100\n",
      " - 0s - loss: 0.1760 - categorical_accuracy: 0.9664\n",
      "Epoch 58/100\n",
      " - 0s - loss: 0.1754 - categorical_accuracy: 0.9597\n",
      "Epoch 59/100\n",
      " - 0s - loss: 0.1701 - categorical_accuracy: 0.9664\n",
      "Epoch 60/100\n",
      " - 0s - loss: 0.1690 - categorical_accuracy: 0.9664\n",
      "Epoch 61/100\n",
      " - 0s - loss: 0.1651 - categorical_accuracy: 0.9664\n",
      "Epoch 62/100\n",
      " - 0s - loss: 0.1642 - categorical_accuracy: 0.9597\n",
      "Epoch 63/100\n",
      " - 0s - loss: 0.1600 - categorical_accuracy: 0.9664\n",
      "Epoch 64/100\n",
      " - 0s - loss: 0.1589 - categorical_accuracy: 0.9664\n",
      "Epoch 65/100\n",
      " - 0s - loss: 0.1565 - categorical_accuracy: 0.9664\n",
      "Epoch 66/100\n",
      " - 0s - loss: 0.1538 - categorical_accuracy: 0.9664\n",
      "Epoch 67/100\n",
      " - 0s - loss: 0.1530 - categorical_accuracy: 0.9664\n",
      "Epoch 68/100\n",
      " - 0s - loss: 0.1496 - categorical_accuracy: 0.9664\n",
      "Epoch 69/100\n",
      " - 0s - loss: 0.1468 - categorical_accuracy: 0.9664\n",
      "Epoch 70/100\n",
      " - 0s - loss: 0.1452 - categorical_accuracy: 0.9664\n",
      "Epoch 71/100\n",
      " - 0s - loss: 0.1440 - categorical_accuracy: 0.9664\n",
      "Epoch 72/100\n",
      " - 0s - loss: 0.1426 - categorical_accuracy: 0.9597\n",
      "Epoch 73/100\n",
      " - 0s - loss: 0.1411 - categorical_accuracy: 0.9664\n",
      "Epoch 74/100\n",
      " - 0s - loss: 0.1392 - categorical_accuracy: 0.9664\n",
      "Epoch 75/100\n",
      " - 0s - loss: 0.1372 - categorical_accuracy: 0.9664\n",
      "Epoch 76/100\n",
      " - 0s - loss: 0.1356 - categorical_accuracy: 0.9664\n",
      "Epoch 77/100\n",
      " - 0s - loss: 0.1351 - categorical_accuracy: 0.9664\n",
      "Epoch 78/100\n",
      " - 0s - loss: 0.1344 - categorical_accuracy: 0.9664\n",
      "Epoch 79/100\n",
      " - 0s - loss: 0.1323 - categorical_accuracy: 0.9664\n",
      "Epoch 80/100\n",
      " - 0s - loss: 0.1288 - categorical_accuracy: 0.9664\n",
      "Epoch 81/100\n",
      " - 0s - loss: 0.1282 - categorical_accuracy: 0.9664\n",
      "Epoch 82/100\n",
      " - 0s - loss: 0.1275 - categorical_accuracy: 0.9664\n",
      "Epoch 83/100\n",
      " - 0s - loss: 0.1247 - categorical_accuracy: 0.9664\n",
      "Epoch 84/100\n",
      " - 0s - loss: 0.1244 - categorical_accuracy: 0.9597\n",
      "Epoch 85/100\n",
      " - 0s - loss: 0.1226 - categorical_accuracy: 0.9664\n",
      "Epoch 86/100\n",
      " - 0s - loss: 0.1214 - categorical_accuracy: 0.9664\n",
      "Epoch 87/100\n",
      " - 0s - loss: 0.1201 - categorical_accuracy: 0.9664\n",
      "Epoch 88/100\n",
      " - 0s - loss: 0.1211 - categorical_accuracy: 0.9664\n",
      "Epoch 89/100\n",
      " - 0s - loss: 0.1192 - categorical_accuracy: 0.9664\n",
      "Epoch 90/100\n",
      " - 0s - loss: 0.1176 - categorical_accuracy: 0.9664\n",
      "Epoch 91/100\n",
      " - 0s - loss: 0.1168 - categorical_accuracy: 0.9597\n",
      "Epoch 92/100\n",
      " - 0s - loss: 0.1185 - categorical_accuracy: 0.9664\n",
      "Epoch 93/100\n",
      " - 0s - loss: 0.1138 - categorical_accuracy: 0.9664\n",
      "Epoch 94/100\n",
      " - 0s - loss: 0.1152 - categorical_accuracy: 0.9664\n",
      "Epoch 95/100\n",
      " - 0s - loss: 0.1130 - categorical_accuracy: 0.9664\n",
      "Epoch 96/100\n",
      " - 0s - loss: 0.1121 - categorical_accuracy: 0.9664\n",
      "Epoch 97/100\n",
      " - 0s - loss: 0.1111 - categorical_accuracy: 0.9597\n",
      "Epoch 98/100\n",
      " - 0s - loss: 0.1105 - categorical_accuracy: 0.9597\n",
      "Epoch 99/100\n",
      " - 0s - loss: 0.1109 - categorical_accuracy: 0.9530\n",
      "Epoch 100/100\n",
      " - 0s - loss: 0.1088 - categorical_accuracy: 0.9664\n"
     ]
    },
    {
     "data": {
      "text/plain": [
       "<keras.callbacks.History at 0x1f76596c710>"
      ]
     },
     "execution_count": 79,
     "metadata": {},
     "output_type": "execute_result"
    }
   ],
   "source": [
    "model.fit(x_train, y_train, verbose=2, epochs=100, batch_size=3)"
   ]
  },
  {
   "cell_type": "markdown",
   "metadata": {},
   "source": [
    "Выглядит как что-то переобученное (что ожидаемо на подобном размере)"
   ]
  },
  {
   "cell_type": "code",
   "execution_count": 82,
   "metadata": {},
   "outputs": [
    {
     "name": "stdout",
     "output_type": "stream",
     "text": [
      "149/149 [==============================] - 0s 60us/step\n"
     ]
    },
    {
     "data": {
      "text/plain": [
       "[0.10604601868447042, 0.9664429534201654]"
      ]
     },
     "execution_count": 82,
     "metadata": {},
     "output_type": "execute_result"
    }
   ],
   "source": [
    "model.evaluate(x_train, y_train)"
   ]
  },
  {
   "cell_type": "markdown",
   "metadata": {},
   "source": [
    "##### 5. Пстроение усложнённого вариианта НС"
   ]
  },
  {
   "cell_type": "code",
   "execution_count": 81,
   "metadata": {},
   "outputs": [],
   "source": [
    "from keras import callbacks"
   ]
  },
  {
   "cell_type": "code",
   "execution_count": 85,
   "metadata": {},
   "outputs": [
    {
     "name": "stdout",
     "output_type": "stream",
     "text": [
      "Всего данных: 149\n",
      "Тренировочных данных: 119\n",
      "Тестовых данных: 30\n",
      "Размер данные для тренировки (входных): (119, 4)\n",
      "Размер данные для тренировки (выходных): (119, 3)\n",
      "Размер данные для теста (входных): (30, 4)\n",
      "Размер данные для теста (выходных): (30, 4)\n"
     ]
    }
   ],
   "source": [
    "xy_data = np.hstack( (number_data_x, number_data_y) ).transpose( (0,1))\n",
    "np.random.shuffle(xy_data)\n",
    "\n",
    "point_split = round(xy_data.shape[0] * 0.8)\n",
    "train_data = xy_data[:point_split]\n",
    "test_data = xy_data[point_split:]\n",
    "\n",
    "print(f'Всего данных: {xy_data.shape[0]}')\n",
    "print(f'Тренировочных данных: {train_data.shape[0]}')\n",
    "print(f'Тестовых данных: {test_data.shape[0]}')\n",
    "\n",
    "x_train = train_data[:, :number_data_x.shape[1] ]\n",
    "y_train = train_data[:, :number_data_y.shape[1] ]\n",
    "\n",
    "print(f'Размер данные для тренировки (входных): {x_train.shape}')\n",
    "print(f'Размер данные для тренировки (выходных): {y_train.shape}')\n",
    "\n",
    "x_test = test_data[:, :number_data_x.shape[1] ]\n",
    "y_test = test_data[:, :number_data_y.shape[1] ]\n",
    "\n",
    "print(f'Размер данные для теста (входных): {x_test.shape}')\n",
    "print(f'Размер данные для теста (выходных): {x_test.shape}')"
   ]
  },
  {
   "cell_type": "code",
   "execution_count": 90,
   "metadata": {},
   "outputs": [],
   "source": [
    "def make_nn(input_len, output_len):\n",
    "    model = Sequential(layers=(\n",
    "        Dense(10, activation='relu', input_dim=input_len),\n",
    "        Dense(output_len, activation=activations.softmax)\n",
    "        )\n",
    "    )\n",
    "    model.compile(optimizer='adam', loss = categorical_crossentropy, metrics=[categorical_accuracy])\n",
    "    return model"
   ]
  },
  {
   "cell_type": "code",
   "execution_count": 91,
   "metadata": {},
   "outputs": [
    {
     "name": "stdout",
     "output_type": "stream",
     "text": [
      "Начинаем обучение\n",
      "Train on 119 samples, validate on 30 samples\n",
      "Epoch 1/100\n",
      "119/119 [==============================] - 1s 5ms/step - loss: 1.5670 - categorical_accuracy: 0.5714 - val_loss: 1.3061 - val_categorical_accuracy: 0.7333\n",
      "Epoch 2/100\n",
      "119/119 [==============================] - 0s 892us/step - loss: 1.5382 - categorical_accuracy: 0.8319 - val_loss: 1.3007 - val_categorical_accuracy: 0.6667\n",
      "Epoch 3/100\n",
      "119/119 [==============================] - 0s 834us/step - loss: 1.5289 - categorical_accuracy: 0.7479 - val_loss: 1.2953 - val_categorical_accuracy: 0.5333\n",
      "Epoch 4/100\n",
      "119/119 [==============================] - 0s 734us/step - loss: 1.5201 - categorical_accuracy: 0.7311 - val_loss: 1.2889 - val_categorical_accuracy: 0.5667\n",
      "Epoch 5/100\n",
      "119/119 [==============================] - 0s 784us/step - loss: 1.5109 - categorical_accuracy: 0.7479 - val_loss: 1.2815 - val_categorical_accuracy: 0.6000\n",
      "Epoch 6/100\n",
      "119/119 [==============================] - 0s 876us/step - loss: 1.5016 - categorical_accuracy: 0.7395 - val_loss: 1.2742 - val_categorical_accuracy: 0.6000\n",
      "Epoch 7/100\n",
      "119/119 [==============================] - 0s 784us/step - loss: 1.4925 - categorical_accuracy: 0.7815 - val_loss: 1.2664 - val_categorical_accuracy: 0.6333\n",
      "Epoch 8/100\n",
      "119/119 [==============================] - 0s 796us/step - loss: 1.4835 - categorical_accuracy: 0.7983 - val_loss: 1.2593 - val_categorical_accuracy: 0.6333\n",
      "Epoch 9/100\n",
      "119/119 [==============================] - 0s 913us/step - loss: 1.4755 - categorical_accuracy: 0.7731 - val_loss: 1.2522 - val_categorical_accuracy: 0.6667\n",
      "Epoch 10/100\n",
      "119/119 [==============================] - 0s 917us/step - loss: 1.4683 - categorical_accuracy: 0.8403 - val_loss: 1.2456 - val_categorical_accuracy: 0.7000\n",
      "Epoch 11/100\n",
      "119/119 [==============================] - 0s 984us/step - loss: 1.4621 - categorical_accuracy: 0.8235 - val_loss: 1.2401 - val_categorical_accuracy: 0.8000\n",
      "Epoch 12/100\n",
      "119/119 [==============================] - 0s 850us/step - loss: 1.4567 - categorical_accuracy: 0.8655 - val_loss: 1.2347 - val_categorical_accuracy: 0.8000\n",
      "Epoch 13/100\n",
      "119/119 [==============================] - 0s 834us/step - loss: 1.4522 - categorical_accuracy: 0.8655 - val_loss: 1.2288 - val_categorical_accuracy: 0.8667\n",
      "Epoch 14/100\n",
      "119/119 [==============================] - 0s 884us/step - loss: 1.4475 - categorical_accuracy: 0.8824 - val_loss: 1.2236 - val_categorical_accuracy: 0.9000\n",
      "Epoch 15/100\n",
      "119/119 [==============================] - 0s 800us/step - loss: 1.4440 - categorical_accuracy: 0.9244 - val_loss: 1.2195 - val_categorical_accuracy: 0.9000\n",
      "Epoch 16/100\n",
      "119/119 [==============================] - 0s 821us/step - loss: 1.4416 - categorical_accuracy: 0.8908 - val_loss: 1.2163 - val_categorical_accuracy: 0.9333\n",
      "Epoch 17/100\n",
      "119/119 [==============================] - 0s 801us/step - loss: 1.4398 - categorical_accuracy: 0.8992 - val_loss: 1.2145 - val_categorical_accuracy: 0.9667\n",
      "Epoch 18/100\n",
      "119/119 [==============================] - 0s 893us/step - loss: 1.4383 - categorical_accuracy: 0.8992 - val_loss: 1.2124 - val_categorical_accuracy: 0.9667\n",
      "Epoch 19/100\n",
      "119/119 [==============================] - 0s 946us/step - loss: 1.4373 - categorical_accuracy: 0.8908 - val_loss: 1.2111 - val_categorical_accuracy: 0.9667\n",
      "Epoch 20/100\n",
      "119/119 [==============================] - 0s 746us/step - loss: 1.4364 - categorical_accuracy: 0.9160 - val_loss: 1.2103 - val_categorical_accuracy: 0.9667\n",
      "Epoch 21/100\n",
      "119/119 [==============================] - 0s 745us/step - loss: 1.4356 - categorical_accuracy: 0.8908 - val_loss: 1.2088 - val_categorical_accuracy: 0.9667\n",
      "Epoch 22/100\n",
      "119/119 [==============================] - 0s 779us/step - loss: 1.4350 - categorical_accuracy: 0.9244 - val_loss: 1.2088 - val_categorical_accuracy: 0.9667\n",
      "Epoch 23/100\n",
      "119/119 [==============================] - 0s 815us/step - loss: 1.4344 - categorical_accuracy: 0.9328 - val_loss: 1.2076 - val_categorical_accuracy: 0.9667\n",
      "Epoch 24/100\n",
      "119/119 [==============================] - 0s 1ms/step - loss: 1.4339 - categorical_accuracy: 0.9328 - val_loss: 1.2072 - val_categorical_accuracy: 0.9667\n",
      "Epoch 25/100\n",
      "119/119 [==============================] - 0s 979us/step - loss: 1.4335 - categorical_accuracy: 0.9328 - val_loss: 1.2066 - val_categorical_accuracy: 0.9667\n",
      "Epoch 26/100\n",
      "119/119 [==============================] - 0s 921us/step - loss: 1.4332 - categorical_accuracy: 0.9412 - val_loss: 1.2058 - val_categorical_accuracy: 0.9667\n",
      "Epoch 27/100\n",
      "119/119 [==============================] - 0s 750us/step - loss: 1.4328 - categorical_accuracy: 0.9328 - val_loss: 1.2061 - val_categorical_accuracy: 0.9667\n",
      "Epoch 28/100\n",
      "119/119 [==============================] - 0s 796us/step - loss: 1.4326 - categorical_accuracy: 0.9412 - val_loss: 1.2044 - val_categorical_accuracy: 0.9667\n",
      "Epoch 29/100\n",
      "119/119 [==============================] - 0s 796us/step - loss: 1.4322 - categorical_accuracy: 0.9412 - val_loss: 1.2045 - val_categorical_accuracy: 0.9667\n",
      "Epoch 30/100\n",
      "119/119 [==============================] - 0s 829us/step - loss: 1.4320 - categorical_accuracy: 0.9496 - val_loss: 1.2036 - val_categorical_accuracy: 0.9667\n",
      "Epoch 31/100\n",
      "119/119 [==============================] - 0s 742us/step - loss: 1.4317 - categorical_accuracy: 0.9580 - val_loss: 1.2044 - val_categorical_accuracy: 0.9667\n",
      "Epoch 32/100\n",
      "119/119 [==============================] - 0s 850us/step - loss: 1.4317 - categorical_accuracy: 0.9580 - val_loss: 1.2029 - val_categorical_accuracy: 0.9667\n",
      "Epoch 33/100\n",
      "119/119 [==============================] - 0s 792us/step - loss: 1.4315 - categorical_accuracy: 0.9664 - val_loss: 1.2023 - val_categorical_accuracy: 0.9667\n",
      "Epoch 34/100\n",
      "119/119 [==============================] - 0s 754us/step - loss: 1.4313 - categorical_accuracy: 0.9496 - val_loss: 1.2020 - val_categorical_accuracy: 0.9667\n",
      "Epoch 35/100\n",
      "119/119 [==============================] - 0s 825us/step - loss: 1.4311 - categorical_accuracy: 0.9664 - val_loss: 1.2025 - val_categorical_accuracy: 0.9667\n",
      "Epoch 36/100\n",
      "119/119 [==============================] - 0s 909us/step - loss: 1.4313 - categorical_accuracy: 0.9748 - val_loss: 1.2022 - val_categorical_accuracy: 0.9667\n",
      "Epoch 37/100\n",
      "119/119 [==============================] - 0s 792us/step - loss: 1.4308 - categorical_accuracy: 0.9664 - val_loss: 1.2014 - val_categorical_accuracy: 0.9667\n",
      "Epoch 38/100\n",
      "119/119 [==============================] - ETA: 0s - loss: 1.3946 - categorical_accuracy: 0.97 - 0s 771us/step - loss: 1.4307 - categorical_accuracy: 0.9664 - val_loss: 1.2011 - val_categorical_accuracy: 0.9667\n",
      "Epoch 39/100\n",
      "119/119 [==============================] - 0s 817us/step - loss: 1.4306 - categorical_accuracy: 0.9748 - val_loss: 1.2009 - val_categorical_accuracy: 0.9667\n",
      "Epoch 40/100\n",
      "119/119 [==============================] - 0s 708us/step - loss: 1.4304 - categorical_accuracy: 0.9664 - val_loss: 1.2010 - val_categorical_accuracy: 0.9667\n",
      "Epoch 41/100\n",
      "119/119 [==============================] - 0s 825us/step - loss: 1.4304 - categorical_accuracy: 0.9580 - val_loss: 1.2002 - val_categorical_accuracy: 0.9333\n",
      "Epoch 42/100\n",
      "119/119 [==============================] - 0s 804us/step - loss: 1.4302 - categorical_accuracy: 0.9580 - val_loss: 1.2003 - val_categorical_accuracy: 0.9667\n",
      "Epoch 43/100\n",
      "119/119 [==============================] - 0s 796us/step - loss: 1.4302 - categorical_accuracy: 0.9580 - val_loss: 1.1997 - val_categorical_accuracy: 0.9667\n",
      "Epoch 44/100\n",
      "119/119 [==============================] - 0s 838us/step - loss: 1.4301 - categorical_accuracy: 0.9580 - val_loss: 1.1996 - val_categorical_accuracy: 0.9667\n",
      "Epoch 45/100\n",
      "119/119 [==============================] - 0s 825us/step - loss: 1.4300 - categorical_accuracy: 0.9580 - val_loss: 1.1992 - val_categorical_accuracy: 0.9667\n",
      "Epoch 46/100\n",
      "119/119 [==============================] - 0s 713us/step - loss: 1.4301 - categorical_accuracy: 0.9664 - val_loss: 1.1994 - val_categorical_accuracy: 0.9667\n",
      "Epoch 47/100\n",
      "119/119 [==============================] - 0s 596us/step - loss: 1.4299 - categorical_accuracy: 0.9580 - val_loss: 1.1990 - val_categorical_accuracy: 0.9667\n",
      "Epoch 48/100\n",
      "119/119 [==============================] - 0s 638us/step - loss: 1.4298 - categorical_accuracy: 0.9664 - val_loss: 1.1989 - val_categorical_accuracy: 0.9667\n",
      "Epoch 49/100\n",
      "119/119 [==============================] - 0s 604us/step - loss: 1.4298 - categorical_accuracy: 0.9412 - val_loss: 1.1989 - val_categorical_accuracy: 0.9667\n",
      "Epoch 50/100\n",
      "119/119 [==============================] - 0s 767us/step - loss: 1.4297 - categorical_accuracy: 0.9580 - val_loss: 1.1984 - val_categorical_accuracy: 0.9667\n",
      "Epoch 51/100\n",
      "119/119 [==============================] - 0s 875us/step - loss: 1.4296 - categorical_accuracy: 0.9580 - val_loss: 1.1982 - val_categorical_accuracy: 0.9667\n",
      "Epoch 52/100\n",
      "119/119 [==============================] - 0s 850us/step - loss: 1.4297 - categorical_accuracy: 0.9664 - val_loss: 1.1980 - val_categorical_accuracy: 0.9333\n",
      "Epoch 53/100\n",
      "119/119 [==============================] - 0s 754us/step - loss: 1.4295 - categorical_accuracy: 0.9412 - val_loss: 1.1987 - val_categorical_accuracy: 0.9667\n",
      "Epoch 54/100\n",
      "119/119 [==============================] - 0s 709us/step - loss: 1.4296 - categorical_accuracy: 0.9580 - val_loss: 1.1984 - val_categorical_accuracy: 0.9667\n",
      "Epoch 55/100\n",
      "119/119 [==============================] - 0s 763us/step - loss: 1.4294 - categorical_accuracy: 0.9580 - val_loss: 1.1978 - val_categorical_accuracy: 0.9667\n",
      "Epoch 56/100\n",
      "119/119 [==============================] - 0s 775us/step - loss: 1.4293 - categorical_accuracy: 0.9496 - val_loss: 1.1975 - val_categorical_accuracy: 0.9667\n",
      "Epoch 57/100\n",
      "119/119 [==============================] - 0s 849us/step - loss: 1.4293 - categorical_accuracy: 0.9664 - val_loss: 1.1975 - val_categorical_accuracy: 0.9667\n",
      "Epoch 58/100\n",
      "119/119 [==============================] - 0s 1ms/step - loss: 1.4293 - categorical_accuracy: 0.9412 - val_loss: 1.1973 - val_categorical_accuracy: 0.9667\n",
      "Epoch 59/100\n",
      "119/119 [==============================] - 0s 1ms/step - loss: 1.4293 - categorical_accuracy: 0.9496 - val_loss: 1.1974 - val_categorical_accuracy: 0.9667\n",
      "Epoch 60/100\n",
      "119/119 [==============================] - 0s 958us/step - loss: 1.4292 - categorical_accuracy: 0.9580 - val_loss: 1.1973 - val_categorical_accuracy: 0.9333\n",
      "Epoch 61/100\n",
      "119/119 [==============================] - 0s 696us/step - loss: 1.4291 - categorical_accuracy: 0.9496 - val_loss: 1.1970 - val_categorical_accuracy: 0.9667\n",
      "Epoch 62/100\n",
      "119/119 [==============================] - 0s 838us/step - loss: 1.4291 - categorical_accuracy: 0.9664 - val_loss: 1.1969 - val_categorical_accuracy: 0.9667\n",
      "Epoch 63/100\n",
      "119/119 [==============================] - 0s 750us/step - loss: 1.4290 - categorical_accuracy: 0.9664 - val_loss: 1.1969 - val_categorical_accuracy: 0.9333\n",
      "Epoch 64/100\n",
      "119/119 [==============================] - 0s 821us/step - loss: 1.4289 - categorical_accuracy: 0.9412 - val_loss: 1.1966 - val_categorical_accuracy: 0.9667\n",
      "Epoch 65/100\n",
      "119/119 [==============================] - 0s 759us/step - loss: 1.4289 - categorical_accuracy: 0.9412 - val_loss: 1.1967 - val_categorical_accuracy: 0.9667\n",
      "Epoch 66/100\n",
      "119/119 [==============================] - 0s 1ms/step - loss: 1.4289 - categorical_accuracy: 0.9748 - val_loss: 1.1965 - val_categorical_accuracy: 0.9667\n",
      "Epoch 67/100\n",
      "119/119 [==============================] - 0s 871us/step - loss: 1.4291 - categorical_accuracy: 0.9496 - val_loss: 1.1966 - val_categorical_accuracy: 0.9667\n",
      "Epoch 68/100\n",
      "119/119 [==============================] - 0s 700us/step - loss: 1.4288 - categorical_accuracy: 0.9664 - val_loss: 1.1965 - val_categorical_accuracy: 0.9333\n",
      "Epoch 69/100\n",
      "119/119 [==============================] - 0s 692us/step - loss: 1.4288 - categorical_accuracy: 0.9496 - val_loss: 1.1965 - val_categorical_accuracy: 0.9667\n",
      "Epoch 70/100\n",
      "119/119 [==============================] - 0s 821us/step - loss: 1.4287 - categorical_accuracy: 0.9580 - val_loss: 1.1961 - val_categorical_accuracy: 0.9667\n",
      "Epoch 71/100\n",
      "119/119 [==============================] - 0s 621us/step - loss: 1.4287 - categorical_accuracy: 0.9580 - val_loss: 1.1962 - val_categorical_accuracy: 0.9333\n",
      "Epoch 72/100\n",
      "119/119 [==============================] - 0s 613us/step - loss: 1.4287 - categorical_accuracy: 0.9496 - val_loss: 1.1959 - val_categorical_accuracy: 0.9667\n",
      "Epoch 73/100\n",
      "119/119 [==============================] - 0s 709us/step - loss: 1.4286 - categorical_accuracy: 0.9496 - val_loss: 1.1958 - val_categorical_accuracy: 0.9667\n",
      "Epoch 74/100\n",
      "119/119 [==============================] - 0s 951us/step - loss: 1.4287 - categorical_accuracy: 0.9580 - val_loss: 1.1957 - val_categorical_accuracy: 0.9667\n",
      "Epoch 75/100\n",
      "119/119 [==============================] - 0s 862us/step - loss: 1.4286 - categorical_accuracy: 0.9328 - val_loss: 1.1958 - val_categorical_accuracy: 0.9667\n",
      "Epoch 76/100\n",
      "119/119 [==============================] - 0s 779us/step - loss: 1.4285 - categorical_accuracy: 0.9664 - val_loss: 1.1956 - val_categorical_accuracy: 0.9667\n",
      "Epoch 77/100\n",
      "119/119 [==============================] - 0s 884us/step - loss: 1.4286 - categorical_accuracy: 0.9496 - val_loss: 1.1955 - val_categorical_accuracy: 0.9333\n",
      "Epoch 78/100\n",
      "119/119 [==============================] - 0s 809us/step - loss: 1.4285 - categorical_accuracy: 0.9580 - val_loss: 1.1956 - val_categorical_accuracy: 0.9667\n",
      "Epoch 79/100\n",
      "119/119 [==============================] - 0s 596us/step - loss: 1.4283 - categorical_accuracy: 0.9664 - val_loss: 1.1953 - val_categorical_accuracy: 0.9667\n",
      "Epoch 80/100\n",
      "119/119 [==============================] - 0s 717us/step - loss: 1.4284 - categorical_accuracy: 0.9328 - val_loss: 1.1954 - val_categorical_accuracy: 0.9667\n",
      "Epoch 81/100\n",
      "119/119 [==============================] - 0s 696us/step - loss: 1.4285 - categorical_accuracy: 0.9664 - val_loss: 1.1953 - val_categorical_accuracy: 0.9333\n",
      "Epoch 82/100\n",
      "119/119 [==============================] - 0s 859us/step - loss: 1.4284 - categorical_accuracy: 0.9328 - val_loss: 1.1949 - val_categorical_accuracy: 0.9667\n",
      "Epoch 83/100\n",
      "119/119 [==============================] - 0s 900us/step - loss: 1.4283 - categorical_accuracy: 0.9412 - val_loss: 1.1950 - val_categorical_accuracy: 0.9667\n",
      "Epoch 84/100\n",
      "119/119 [==============================] - 0s 867us/step - loss: 1.4283 - categorical_accuracy: 0.9412 - val_loss: 1.1949 - val_categorical_accuracy: 0.9667\n",
      "Epoch 85/100\n",
      "119/119 [==============================] - 0s 763us/step - loss: 1.4283 - categorical_accuracy: 0.9580 - val_loss: 1.1948 - val_categorical_accuracy: 0.9667\n",
      "Epoch 86/100\n",
      "119/119 [==============================] - 0s 621us/step - loss: 1.4282 - categorical_accuracy: 0.9328 - val_loss: 1.1946 - val_categorical_accuracy: 0.9667\n",
      "Epoch 87/100\n",
      "119/119 [==============================] - 0s 621us/step - loss: 1.4282 - categorical_accuracy: 0.9496 - val_loss: 1.1948 - val_categorical_accuracy: 0.9667\n",
      "Epoch 88/100\n",
      "119/119 [==============================] - 0s 696us/step - loss: 1.4282 - categorical_accuracy: 0.9580 - val_loss: 1.1948 - val_categorical_accuracy: 0.9667\n",
      "Epoch 89/100\n",
      "119/119 [==============================] - 0s 667us/step - loss: 1.4282 - categorical_accuracy: 0.9496 - val_loss: 1.1946 - val_categorical_accuracy: 0.9667\n",
      "Epoch 90/100\n",
      "119/119 [==============================] - 0s 804us/step - loss: 1.4282 - categorical_accuracy: 0.9328 - val_loss: 1.1941 - val_categorical_accuracy: 0.9667\n",
      "Epoch 91/100\n",
      "119/119 [==============================] - 0s 888us/step - loss: 1.4281 - categorical_accuracy: 0.9328 - val_loss: 1.1948 - val_categorical_accuracy: 0.9667\n",
      "Epoch 92/100\n",
      "119/119 [==============================] - 0s 734us/step - loss: 1.4282 - categorical_accuracy: 0.9664 - val_loss: 1.1942 - val_categorical_accuracy: 0.9667\n",
      "Epoch 93/100\n",
      "119/119 [==============================] - 0s 600us/step - loss: 1.4281 - categorical_accuracy: 0.9412 - val_loss: 1.1942 - val_categorical_accuracy: 0.9667\n",
      "Epoch 94/100\n",
      "119/119 [==============================] - 0s 650us/step - loss: 1.4280 - categorical_accuracy: 0.9496 - val_loss: 1.1941 - val_categorical_accuracy: 0.9667\n",
      "Epoch 95/100\n",
      "119/119 [==============================] - 0s 713us/step - loss: 1.4280 - categorical_accuracy: 0.9580 - val_loss: 1.1940 - val_categorical_accuracy: 0.9667\n",
      "Epoch 96/100\n"
     ]
    },
    {
     "name": "stdout",
     "output_type": "stream",
     "text": [
      "119/119 [==============================] - 0s 642us/step - loss: 1.4280 - categorical_accuracy: 0.9412 - val_loss: 1.1941 - val_categorical_accuracy: 0.9667\n",
      "Epoch 97/100\n",
      "119/119 [==============================] - 0s 642us/step - loss: 1.4279 - categorical_accuracy: 0.9244 - val_loss: 1.1940 - val_categorical_accuracy: 0.9667\n",
      "Epoch 98/100\n",
      "119/119 [==============================] - 0s 941us/step - loss: 1.4279 - categorical_accuracy: 0.9496 - val_loss: 1.1936 - val_categorical_accuracy: 0.9667\n",
      "Epoch 99/100\n",
      "119/119 [==============================] - 0s 1ms/step - loss: 1.4278 - categorical_accuracy: 0.9412 - val_loss: 1.1936 - val_categorical_accuracy: 0.9667\n",
      "Epoch 100/100\n",
      "119/119 [==============================] - 0s 846us/step - loss: 1.4278 - categorical_accuracy: 0.9580 - val_loss: 1.1937 - val_categorical_accuracy: 0.9667\n"
     ]
    }
   ],
   "source": [
    "model = make_nn(x_train.shape[1], y_train.shape[1])\n",
    "\n",
    "print('Начинаем обучение')\n",
    "history = model.fit(\n",
    "    x=x_train,\n",
    "    y=y_train,\n",
    "    batch_size=3,\n",
    "    epochs=100,\n",
    "    verbose=1,\n",
    "    validation_data=(x_test,y_test),\n",
    "    callbacks=[\n",
    "        callbacks.History()\n",
    "    ]\n",
    ")"
   ]
  },
  {
   "cell_type": "code",
   "execution_count": 94,
   "metadata": {},
   "outputs": [
    {
     "data": {
      "text/plain": [
       "<matplotlib.legend.Legend at 0x1f767da5828>"
      ]
     },
     "execution_count": 94,
     "metadata": {},
     "output_type": "execute_result"
    },
    {
     "data": {
      "image/png": "[encoded data removed]",
      "text/plain": [
       "<Figure size 576x360 with 1 Axes>"
      ]
     },
     "metadata": {
      "needs_background": "light"
     },
     "output_type": "display_data"
    },
    {
     "data": {
      "image/png": "[encoded data removed]",
      "text/plain": [
       "<Figure size 576x360 with 1 Axes>"
      ]
     },
     "metadata": {
      "needs_background": "light"
     },
     "output_type": "display_data"
    }
   ],
   "source": [
    "plt.figure(0, figsize=(8,5))\n",
    "plt.plot(history.history['loss'])\n",
    "plt.plot(history.history['val_loss'])\n",
    "plt.title('График ошибки')\n",
    "plt.ylabel('Значение')\n",
    "plt.xlabel('Эпоха')\n",
    "plt.legend(['Ошибка (train)', 'Ошибка (test)'])\n",
    "\n",
    "plt.figure(1, figsize=(8,5))\n",
    "plt.plot(history.history['categorical_accuracy'])\n",
    "plt.plot(history.history['val_categorical_accuracy'])\n",
    "plt.title('График точности')\n",
    "plt.ylabel('Значение')\n",
    "plt.xlabel('Эпоха')\n",
    "plt.legend(['Точность (train)', 'Точность (test)'])"
   ]
  },
  {
   "cell_type": "code",
   "execution_count": 95,
   "metadata": {},
   "outputs": [
    {
     "name": "stdout",
     "output_type": "stream",
     "text": [
      "Начинаем обучение сети\n",
      "Train on 119 samples, validate on 30 samples\n",
      "Epoch 1/100\n",
      "119/119 [==============================] - 1s 5ms/step - loss: 1.1377 - categorical_accuracy: 0.4118 - val_loss: 1.3580 - val_categorical_accuracy: 0.0000e+00\n",
      "Epoch 2/100\n",
      "119/119 [==============================] - 0s 1ms/step - loss: 1.0854 - categorical_accuracy: 0.4118 - val_loss: 1.3584 - val_categorical_accuracy: 0.0000e+00\n",
      "Epoch 3/100\n",
      "119/119 [==============================] - 0s 903us/step - loss: 1.0447 - categorical_accuracy: 0.4118 - val_loss: 1.3681 - val_categorical_accuracy: 0.0000e+00\n",
      "Epoch 4/100\n",
      "119/119 [==============================] - 0s 1ms/step - loss: 1.0100 - categorical_accuracy: 0.4622 - val_loss: 1.3749 - val_categorical_accuracy: 0.0000e+00\n",
      "Epoch 5/100\n",
      "119/119 [==============================] - 0s 1ms/step - loss: 0.9765 - categorical_accuracy: 0.5798 - val_loss: 1.3708 - val_categorical_accuracy: 0.0000e+00\n",
      "Epoch 6/100\n",
      "119/119 [==============================] - 0s 963us/step - loss: 0.9433 - categorical_accuracy: 0.7395 - val_loss: 1.3892 - val_categorical_accuracy: 0.0000e+00\n",
      "Epoch 7/100\n",
      "119/119 [==============================] - 0s 922us/step - loss: 0.9062 - categorical_accuracy: 0.8235 - val_loss: 1.3745 - val_categorical_accuracy: 0.0000e+00\n",
      "Epoch 8/100\n",
      "119/119 [==============================] - 0s 829us/step - loss: 0.8648 - categorical_accuracy: 0.8319 - val_loss: 1.3763 - val_categorical_accuracy: 0.0000e+00\n",
      "Epoch 9/100\n",
      "119/119 [==============================] - 0s 921us/step - loss: 0.8212 - categorical_accuracy: 0.8319 - val_loss: 1.3960 - val_categorical_accuracy: 0.0000e+00\n",
      "Epoch 10/100\n",
      "119/119 [==============================] - ETA: 0s - loss: 0.7536 - categorical_accuracy: 0.85 - 0s 804us/step - loss: 0.7768 - categorical_accuracy: 0.8319 - val_loss: 1.3644 - val_categorical_accuracy: 0.0000e+00\n",
      "Epoch 11/100\n",
      "119/119 [==============================] - 0s 909us/step - loss: 0.7357 - categorical_accuracy: 0.8319 - val_loss: 1.3665 - val_categorical_accuracy: 0.0000e+00\n",
      "Epoch 12/100\n",
      "119/119 [==============================] - 0s 713us/step - loss: 0.6957 - categorical_accuracy: 0.8319 - val_loss: 1.3068 - val_categorical_accuracy: 0.0000e+00\n",
      "Epoch 13/100\n",
      "119/119 [==============================] - 0s 758us/step - loss: 0.6590 - categorical_accuracy: 0.8319 - val_loss: 1.2910 - val_categorical_accuracy: 0.0000e+00\n",
      "Epoch 14/100\n",
      "119/119 [==============================] - 0s 792us/step - loss: 0.6254 - categorical_accuracy: 0.8319 - val_loss: 1.2735 - val_categorical_accuracy: 0.0000e+00\n",
      "Epoch 15/100\n",
      "119/119 [==============================] - 0s 854us/step - loss: 0.5948 - categorical_accuracy: 0.8319 - val_loss: 1.2244 - val_categorical_accuracy: 0.0000e+00\n",
      "Epoch 16/100\n",
      "119/119 [==============================] - 0s 850us/step - loss: 0.5653 - categorical_accuracy: 0.8319 - val_loss: 1.2176 - val_categorical_accuracy: 0.0000e+00\n",
      "Epoch 17/100\n",
      "119/119 [==============================] - 0s 875us/step - loss: 0.5394 - categorical_accuracy: 0.8319 - val_loss: 1.1846 - val_categorical_accuracy: 0.0000e+00\n",
      "Epoch 18/100\n",
      "119/119 [==============================] - 0s 846us/step - loss: 0.5156 - categorical_accuracy: 0.8319 - val_loss: 1.1635 - val_categorical_accuracy: 0.0000e+00\n",
      "Epoch 19/100\n",
      "119/119 [==============================] - 0s 838us/step - loss: 0.4938 - categorical_accuracy: 0.8319 - val_loss: 1.1391 - val_categorical_accuracy: 0.0000e+00\n",
      "Epoch 20/100\n",
      "119/119 [==============================] - 0s 692us/step - loss: 0.4752 - categorical_accuracy: 0.8319 - val_loss: 1.1179 - val_categorical_accuracy: 0.0000e+00\n",
      "Epoch 21/100\n",
      "119/119 [==============================] - 0s 709us/step - loss: 0.4570 - categorical_accuracy: 0.8319 - val_loss: 1.1043 - val_categorical_accuracy: 0.0000e+00\n",
      "Epoch 22/100\n",
      "119/119 [==============================] - 0s 688us/step - loss: 0.4415 - categorical_accuracy: 0.8319 - val_loss: 1.1176 - val_categorical_accuracy: 0.0000e+00\n",
      "Epoch 23/100\n",
      "119/119 [==============================] - 0s 667us/step - loss: 0.4272 - categorical_accuracy: 0.8319 - val_loss: 1.0647 - val_categorical_accuracy: 0.0000e+00\n",
      "Epoch 24/100\n",
      "119/119 [==============================] - 0s 671us/step - loss: 0.4133 - categorical_accuracy: 0.8319 - val_loss: 1.0837 - val_categorical_accuracy: 0.0000e+00\n",
      "Epoch 25/100\n",
      "119/119 [==============================] - 0s 629us/step - loss: 0.4018 - categorical_accuracy: 0.8319 - val_loss: 1.0321 - val_categorical_accuracy: 0.0000e+00\n",
      "Epoch 26/100\n",
      "119/119 [==============================] - 0s 696us/step - loss: 0.3884 - categorical_accuracy: 0.8319 - val_loss: 1.0280 - val_categorical_accuracy: 0.0000e+00\n",
      "Epoch 27/100\n",
      "119/119 [==============================] - 0s 750us/step - loss: 0.3792 - categorical_accuracy: 0.8319 - val_loss: 0.9482 - val_categorical_accuracy: 0.0000e+00\n",
      "Epoch 28/100\n",
      "119/119 [==============================] - 0s 759us/step - loss: 0.3659 - categorical_accuracy: 0.8403 - val_loss: 0.9688 - val_categorical_accuracy: 0.0000e+00\n",
      "Epoch 29/100\n",
      "119/119 [==============================] - 0s 913us/step - loss: 0.3563 - categorical_accuracy: 0.8403 - val_loss: 0.9626 - val_categorical_accuracy: 0.0000e+00\n",
      "Epoch 30/100\n",
      "119/119 [==============================] - 0s 759us/step - loss: 0.3491 - categorical_accuracy: 0.8403 - val_loss: 0.9547 - val_categorical_accuracy: 0.0000e+00\n",
      "Epoch 31/100\n",
      "119/119 [==============================] - 0s 759us/step - loss: 0.3385 - categorical_accuracy: 0.8403 - val_loss: 0.9452 - val_categorical_accuracy: 0.0000e+00\n",
      "Epoch 32/100\n",
      "119/119 [==============================] - 0s 829us/step - loss: 0.3297 - categorical_accuracy: 0.8403 - val_loss: 0.9050 - val_categorical_accuracy: 0.1000\n",
      "Epoch 33/100\n",
      "119/119 [==============================] - 0s 675us/step - loss: 0.3216 - categorical_accuracy: 0.8487 - val_loss: 0.8899 - val_categorical_accuracy: 0.2000\n",
      "Epoch 34/100\n",
      "119/119 [==============================] - 0s 696us/step - loss: 0.3145 - categorical_accuracy: 0.8487 - val_loss: 0.9034 - val_categorical_accuracy: 0.2000\n",
      "Epoch 35/100\n",
      "119/119 [==============================] - 0s 774us/step - loss: 0.3072 - categorical_accuracy: 0.8824 - val_loss: 0.8543 - val_categorical_accuracy: 0.3333\n",
      "Epoch 36/100\n",
      "119/119 [==============================] - 0s 725us/step - loss: 0.2993 - categorical_accuracy: 0.8908 - val_loss: 0.8439 - val_categorical_accuracy: 0.3333\n",
      "Epoch 37/100\n",
      "119/119 [==============================] - 0s 638us/step - loss: 0.2937 - categorical_accuracy: 0.9160 - val_loss: 0.8209 - val_categorical_accuracy: 0.4000\n",
      "Epoch 38/100\n",
      "119/119 [==============================] - 0s 692us/step - loss: 0.2863 - categorical_accuracy: 0.8992 - val_loss: 0.8678 - val_categorical_accuracy: 0.3333\n",
      "Epoch 39/100\n",
      "119/119 [==============================] - 0s 731us/step - loss: 0.2791 - categorical_accuracy: 0.8992 - val_loss: 0.8311 - val_categorical_accuracy: 0.4000\n",
      "Epoch 40/100\n",
      "119/119 [==============================] - 0s 663us/step - loss: 0.2730 - categorical_accuracy: 0.9076 - val_loss: 0.8000 - val_categorical_accuracy: 0.4000\n",
      "Epoch 41/100\n",
      "119/119 [==============================] - 0s 650us/step - loss: 0.2683 - categorical_accuracy: 0.9160 - val_loss: 0.7850 - val_categorical_accuracy: 0.4000\n",
      "Epoch 42/100\n",
      "119/119 [==============================] - 0s 846us/step - loss: 0.2615 - categorical_accuracy: 0.9412 - val_loss: 0.7473 - val_categorical_accuracy: 0.4333\n",
      "Epoch 43/100\n",
      "119/119 [==============================] - 0s 888us/step - loss: 0.2554 - categorical_accuracy: 0.9496 - val_loss: 0.7383 - val_categorical_accuracy: 0.4667\n",
      "Epoch 44/100\n",
      "119/119 [==============================] - 0s 850us/step - loss: 0.2497 - categorical_accuracy: 0.9412 - val_loss: 0.7848 - val_categorical_accuracy: 0.4000\n",
      "Epoch 45/100\n",
      "119/119 [==============================] - 0s 775us/step - loss: 0.2455 - categorical_accuracy: 0.9412 - val_loss: 0.7451 - val_categorical_accuracy: 0.4667\n",
      "Epoch 46/100\n",
      "119/119 [==============================] - 0s 779us/step - loss: 0.2392 - categorical_accuracy: 0.9496 - val_loss: 0.7351 - val_categorical_accuracy: 0.4667\n",
      "Epoch 47/100\n",
      "119/119 [==============================] - 0s 746us/step - loss: 0.2340 - categorical_accuracy: 0.9496 - val_loss: 0.7262 - val_categorical_accuracy: 0.4667\n"
     ]
    },
    {
     "name": "stdout",
     "output_type": "stream",
     "text": [
      "Epoch 48/100\n",
      "119/119 [==============================] - 0s 729us/step - loss: 0.2289 - categorical_accuracy: 0.9496 - val_loss: 0.6947 - val_categorical_accuracy: 0.5000\n",
      "Epoch 49/100\n",
      "119/119 [==============================] - 0s 742us/step - loss: 0.2246 - categorical_accuracy: 0.9496 - val_loss: 0.6835 - val_categorical_accuracy: 0.5333\n",
      "Epoch 50/100\n",
      "119/119 [==============================] - 0s 729us/step - loss: 0.2198 - categorical_accuracy: 0.9496 - val_loss: 0.7247 - val_categorical_accuracy: 0.5000\n",
      "Epoch 51/100\n",
      "119/119 [==============================] - 0s 713us/step - loss: 0.2199 - categorical_accuracy: 0.9496 - val_loss: 0.6990 - val_categorical_accuracy: 0.5000\n",
      "Epoch 52/100\n",
      "119/119 [==============================] - 0s 742us/step - loss: 0.2126 - categorical_accuracy: 0.9496 - val_loss: 0.7507 - val_categorical_accuracy: 0.4333\n",
      "Epoch 53/100\n",
      "119/119 [==============================] - 0s 859us/step - loss: 0.2059 - categorical_accuracy: 0.9496 - val_loss: 0.6398 - val_categorical_accuracy: 0.6000\n",
      "Epoch 54/100\n",
      "119/119 [==============================] - 0s 984us/step - loss: 0.2024 - categorical_accuracy: 0.9496 - val_loss: 0.6374 - val_categorical_accuracy: 0.6000\n",
      "Epoch 55/100\n",
      "119/119 [==============================] - 0s 963us/step - loss: 0.1990 - categorical_accuracy: 0.9496 - val_loss: 0.6794 - val_categorical_accuracy: 0.5000\n",
      "Epoch 56/100\n",
      "119/119 [==============================] - 0s 930us/step - loss: 0.1978 - categorical_accuracy: 0.9496 - val_loss: 0.6224 - val_categorical_accuracy: 0.6333\n",
      "Epoch 57/100\n",
      "119/119 [==============================] - 0s 913us/step - loss: 0.1927 - categorical_accuracy: 0.9496 - val_loss: 0.6594 - val_categorical_accuracy: 0.6000\n",
      "Epoch 58/100\n",
      "119/119 [==============================] - 0s 950us/step - loss: 0.1874 - categorical_accuracy: 0.9496 - val_loss: 0.6197 - val_categorical_accuracy: 0.6333\n",
      "Epoch 59/100\n",
      "119/119 [==============================] - 0s 885us/step - loss: 0.1833 - categorical_accuracy: 0.9496 - val_loss: 0.6051 - val_categorical_accuracy: 0.6333\n",
      "Epoch 60/100\n",
      "119/119 [==============================] - 0s 1ms/step - loss: 0.1797 - categorical_accuracy: 0.9664 - val_loss: 0.6075 - val_categorical_accuracy: 0.6333\n",
      "Epoch 61/100\n",
      "119/119 [==============================] - 0s 829us/step - loss: 0.1766 - categorical_accuracy: 0.9664 - val_loss: 0.5921 - val_categorical_accuracy: 0.6667\n",
      "Epoch 62/100\n",
      "119/119 [==============================] - 0s 850us/step - loss: 0.1737 - categorical_accuracy: 0.9496 - val_loss: 0.5787 - val_categorical_accuracy: 0.6667\n",
      "Epoch 63/100\n",
      "119/119 [==============================] - 0s 771us/step - loss: 0.1695 - categorical_accuracy: 0.9580 - val_loss: 0.6023 - val_categorical_accuracy: 0.6667\n",
      "Epoch 64/100\n",
      "119/119 [==============================] - 0s 879us/step - loss: 0.1682 - categorical_accuracy: 0.9580 - val_loss: 0.5798 - val_categorical_accuracy: 0.6667\n",
      "Epoch 65/100\n",
      "119/119 [==============================] - 0s 825us/step - loss: 0.1643 - categorical_accuracy: 0.9664 - val_loss: 0.5529 - val_categorical_accuracy: 0.6667\n",
      "Epoch 66/100\n",
      "119/119 [==============================] - 0s 832us/step - loss: 0.1604 - categorical_accuracy: 0.9664 - val_loss: 0.5529 - val_categorical_accuracy: 0.6667\n",
      "Epoch 67/100\n",
      "119/119 [==============================] - 0s 800us/step - loss: 0.1619 - categorical_accuracy: 0.9580 - val_loss: 0.5537 - val_categorical_accuracy: 0.6667\n",
      "Epoch 68/100\n",
      "119/119 [==============================] - 0s 825us/step - loss: 0.1553 - categorical_accuracy: 0.9664 - val_loss: 0.5948 - val_categorical_accuracy: 0.6667\n",
      "Epoch 69/100\n",
      "119/119 [==============================] - 0s 899us/step - loss: 0.1535 - categorical_accuracy: 0.9664 - val_loss: 0.5877 - val_categorical_accuracy: 0.6667\n",
      "Epoch 70/100\n",
      "119/119 [==============================] - 0s 878us/step - loss: 0.1493 - categorical_accuracy: 0.9664 - val_loss: 0.5463 - val_categorical_accuracy: 0.7000\n",
      "Epoch 71/100\n",
      "119/119 [==============================] - 0s 900us/step - loss: 0.1472 - categorical_accuracy: 0.9664 - val_loss: 0.5542 - val_categorical_accuracy: 0.6667\n",
      "Epoch 72/100\n",
      "119/119 [==============================] - 0s 930us/step - loss: 0.1455 - categorical_accuracy: 0.9664 - val_loss: 0.5473 - val_categorical_accuracy: 0.6667\n",
      "Epoch 73/100\n",
      "119/119 [==============================] - 0s 1ms/step - loss: 0.1427 - categorical_accuracy: 0.9664 - val_loss: 0.5566 - val_categorical_accuracy: 0.6667\n",
      "Epoch 74/100\n",
      "119/119 [==============================] - 0s 884us/step - loss: 0.1405 - categorical_accuracy: 0.9664 - val_loss: 0.5037 - val_categorical_accuracy: 0.7000\n",
      "Epoch 75/100\n",
      "119/119 [==============================] - 0s 896us/step - loss: 0.1388 - categorical_accuracy: 0.9664 - val_loss: 0.5731 - val_categorical_accuracy: 0.6667\n",
      "Epoch 76/100\n",
      "119/119 [==============================] - 0s 846us/step - loss: 0.1365 - categorical_accuracy: 0.9748 - val_loss: 0.5284 - val_categorical_accuracy: 0.7000\n",
      "Epoch 77/100\n",
      "119/119 [==============================] - 0s 875us/step - loss: 0.1333 - categorical_accuracy: 0.9664 - val_loss: 0.5116 - val_categorical_accuracy: 0.7000\n",
      "Epoch 78/100\n",
      "119/119 [==============================] - 0s 796us/step - loss: 0.1319 - categorical_accuracy: 0.9748 - val_loss: 0.4866 - val_categorical_accuracy: 0.7000\n",
      "Epoch 79/100\n",
      "119/119 [==============================] - 0s 759us/step - loss: 0.1296 - categorical_accuracy: 0.9748 - val_loss: 0.5238 - val_categorical_accuracy: 0.7000\n",
      "Epoch 80/100\n",
      "119/119 [==============================] - 0s 571us/step - loss: 0.1281 - categorical_accuracy: 0.9664 - val_loss: 0.5084 - val_categorical_accuracy: 0.7000\n",
      "Epoch 81/100\n",
      "119/119 [==============================] - 0s 688us/step - loss: 0.1256 - categorical_accuracy: 0.9664 - val_loss: 0.5017 - val_categorical_accuracy: 0.7000\n",
      "Epoch 82/100\n",
      "119/119 [==============================] - 0s 925us/step - loss: 0.1237 - categorical_accuracy: 0.9748 - val_loss: 0.4674 - val_categorical_accuracy: 0.7000\n",
      "Epoch 83/100\n",
      "119/119 [==============================] - 0s 734us/step - loss: 0.1227 - categorical_accuracy: 0.9664 - val_loss: 0.5123 - val_categorical_accuracy: 0.7000\n",
      "Epoch 84/100\n",
      "119/119 [==============================] - 0s 713us/step - loss: 0.1211 - categorical_accuracy: 0.9664 - val_loss: 0.4935 - val_categorical_accuracy: 0.7000\n",
      "Epoch 85/100\n",
      "119/119 [==============================] - 0s 713us/step - loss: 0.1184 - categorical_accuracy: 0.9748 - val_loss: 0.4484 - val_categorical_accuracy: 0.7000\n",
      "Epoch 86/100\n",
      "119/119 [==============================] - 0s 831us/step - loss: 0.1167 - categorical_accuracy: 0.9748 - val_loss: 0.4848 - val_categorical_accuracy: 0.7000\n",
      "Epoch 87/100\n",
      "119/119 [==============================] - 0s 879us/step - loss: 0.1151 - categorical_accuracy: 0.9748 - val_loss: 0.4727 - val_categorical_accuracy: 0.7000\n",
      "Epoch 88/100\n",
      "119/119 [==============================] - 0s 746us/step - loss: 0.1143 - categorical_accuracy: 0.9748 - val_loss: 0.4630 - val_categorical_accuracy: 0.7000\n",
      "Epoch 89/100\n",
      "119/119 [==============================] - 0s 679us/step - loss: 0.1137 - categorical_accuracy: 0.9664 - val_loss: 0.5172 - val_categorical_accuracy: 0.7000\n",
      "Epoch 90/100\n",
      "119/119 [==============================] - 0s 800us/step - loss: 0.1104 - categorical_accuracy: 0.9748 - val_loss: 0.4443 - val_categorical_accuracy: 0.7000\n",
      "Epoch 91/100\n",
      "119/119 [==============================] - 0s 734us/step - loss: 0.1097 - categorical_accuracy: 0.9748 - val_loss: 0.4343 - val_categorical_accuracy: 0.7333\n",
      "Epoch 92/100\n",
      "119/119 [==============================] - 0s 817us/step - loss: 0.1082 - categorical_accuracy: 0.9748 - val_loss: 0.4635 - val_categorical_accuracy: 0.7000\n",
      "Epoch 93/100\n",
      "119/119 [==============================] - 0s 825us/step - loss: 0.1068 - categorical_accuracy: 0.9748 - val_loss: 0.4545 - val_categorical_accuracy: 0.7000\n",
      "Epoch 94/100\n",
      "119/119 [==============================] - 0s 809us/step - loss: 0.1067 - categorical_accuracy: 0.9748 - val_loss: 0.4612 - val_categorical_accuracy: 0.7000\n",
      "Epoch 95/100\n",
      "119/119 [==============================] - 0s 838us/step - loss: 0.1043 - categorical_accuracy: 0.9748 - val_loss: 0.4198 - val_categorical_accuracy: 0.7667\n",
      "Epoch 96/100\n",
      "119/119 [==============================] - 0s 829us/step - loss: 0.1032 - categorical_accuracy: 0.9748 - val_loss: 0.4785 - val_categorical_accuracy: 0.7000\n",
      "Epoch 97/100\n",
      "119/119 [==============================] - 0s 838us/step - loss: 0.1024 - categorical_accuracy: 0.9748 - val_loss: 0.4084 - val_categorical_accuracy: 0.7667\n",
      "Epoch 98/100\n",
      "119/119 [==============================] - 0s 834us/step - loss: 0.1011 - categorical_accuracy: 0.9664 - val_loss: 0.4560 - val_categorical_accuracy: 0.7000\n",
      "Epoch 99/100\n",
      "119/119 [==============================] - 0s 913us/step - loss: 0.0992 - categorical_accuracy: 0.9832 - val_loss: 0.4347 - val_categorical_accuracy: 0.7333\n",
      "Epoch 100/100\n",
      "119/119 [==============================] - 0s 946us/step - loss: 0.0979 - categorical_accuracy: 0.9748 - val_loss: 0.4398 - val_categorical_accuracy: 0.7000\n"
     ]
    }
   ],
   "source": [
    "model = make_nn(number_data_x.shape[1], number_data_y.shape[1])\n",
    "\n",
    "print('Начинаем обучение сети')\n",
    "history = model.fit(\n",
    "    x=number_data_x,\n",
    "    y=number_data_y,\n",
    "    batch_size=3,\n",
    "    epochs=100,\n",
    "    verbose=1,\n",
    "#     Вот это разделения данных в соотношении 80/20\n",
    "    validation_split=0.2,\n",
    "    callbacks=[\n",
    "        callbacks.History(),\n",
    "    ]\n",
    "    \n",
    ")"
   ]
  },
  {
   "cell_type": "code",
   "execution_count": 96,
   "metadata": {},
   "outputs": [
    {
     "data": {
      "text/plain": [
       "<matplotlib.legend.Legend at 0x1f767b26fd0>"
      ]
     },
     "execution_count": 96,
     "metadata": {},
     "output_type": "execute_result"
    },
    {
     "data": {
      "image/png": "[encoded data removed]",
      "text/plain": [
       "<Figure size 576x360 with 1 Axes>"
      ]
     },
     "metadata": {
      "needs_background": "light"
     },
     "output_type": "display_data"
    },
    {
     "data": {
      "image/png": "[encoded data removed]",
      "text/plain": [
       "<Figure size 576x360 with 1 Axes>"
      ]
     },
     "metadata": {
      "needs_background": "light"
     },
     "output_type": "display_data"
    }
   ],
   "source": [
    "plt.figure(0, figsize=(8,5))\n",
    "plt.plot(history.history['loss'])\n",
    "plt.plot(history.history['val_loss'])\n",
    "plt.title('График ошибки')\n",
    "plt.ylabel('Значение')\n",
    "plt.xlabel('Эпоха')\n",
    "plt.legend(['Ошибка (train)', 'Ошибка (test)'])\n",
    "\n",
    "plt.figure(1, figsize=(8,5))\n",
    "plt.plot(history.history['categorical_accuracy'])\n",
    "plt.plot(history.history['val_categorical_accuracy'])\n",
    "plt.title('График точности')\n",
    "plt.ylabel('Значение')\n",
    "plt.xlabel('Эпоха')\n",
    "plt.legend(['Точность (train)', 'Точность (test)'])"
   ]
  },
  {
   "cell_type": "code",
   "execution_count": 1,
   "metadata": {},
   "outputs": [
    {
     "ename": "NameError",
     "evalue": "name 'make_nn' is not defined",
     "output_type": "error",
     "traceback": [
      "\u001b[1;31m---------------------------------------------------------------------------\u001b[0m",
      "\u001b[1;31mNameError\u001b[0m                                 Traceback (most recent call last)",
      "\u001b[1;32m<ipython-input-1-3a5e4c78d05a>\u001b[0m in \u001b[0;36m<module>\u001b[1;34m\u001b[0m\n\u001b[1;32m----> 1\u001b[1;33m \u001b[0mmodel\u001b[0m \u001b[1;33m=\u001b[0m \u001b[0mmake_nn\u001b[0m\u001b[1;33m(\u001b[0m\u001b[0mnumber_data_x\u001b[0m\u001b[1;33m.\u001b[0m\u001b[0mshape\u001b[0m\u001b[1;33m[\u001b[0m\u001b[1;36m1\u001b[0m\u001b[1;33m]\u001b[0m\u001b[1;33m,\u001b[0m \u001b[0mnumber_data_y\u001b[0m\u001b[1;33m.\u001b[0m\u001b[0mshape\u001b[0m\u001b[1;33m[\u001b[0m\u001b[1;36m1\u001b[0m\u001b[1;33m]\u001b[0m\u001b[1;33m)\u001b[0m\u001b[1;33m\u001b[0m\u001b[1;33m\u001b[0m\u001b[0m\n\u001b[0m\u001b[0;32m      2\u001b[0m \u001b[1;33m\u001b[0m\u001b[0m\n\u001b[0;32m      3\u001b[0m \u001b[0mprint\u001b[0m\u001b[1;33m(\u001b[0m\u001b[1;34m'Начинаем обучение'\u001b[0m\u001b[1;33m)\u001b[0m\u001b[1;33m\u001b[0m\u001b[1;33m\u001b[0m\u001b[0m\n\u001b[0;32m      4\u001b[0m history = model.fit(\n\u001b[0;32m      5\u001b[0m     \u001b[0mx\u001b[0m\u001b[1;33m=\u001b[0m\u001b[0mnumber_data_x\u001b[0m\u001b[1;33m,\u001b[0m\u001b[1;33m\u001b[0m\u001b[1;33m\u001b[0m\u001b[0m\n",
      "\u001b[1;31mNameError\u001b[0m: name 'make_nn' is not defined"
     ]
    }
   ],
   "source": [
    "model = make_nn(number_data_x.shape[1], number_data_y.shape[1])\n",
    "\n",
    "print('Начинаем обучение')\n",
    "history = model.fit(\n",
    "    x=number_data_x,\n",
    "    y=number_data_y,\n",
    "    batch_size=3,\n",
    "    epochs=300,\n",
    "    validation_split=0.2,\n",
    "    callbacks=[\n",
    "        callbacks.History(),\n",
    "        callbacks.EarlyStopping( monitor='val_categorical_accuracy',\n",
    "                                mode='max',\n",
    "                                patience=50,\n",
    "                               min_delta=0.01)\n",
    "    ]\n",
    ")"
   ]
  },
  {
   "cell_type": "code",
   "execution_count": 99,
   "metadata": {},
   "outputs": [
    {
     "data": {
      "text/plain": [
       "<matplotlib.legend.Legend at 0x1f76c33fdd8>"
      ]
     },
     "execution_count": 99,
     "metadata": {},
     "output_type": "execute_result"
    },
    {
     "data": {
      "image/png": "[encoded data removed]",
      "text/plain": [
       "<Figure size 576x360 with 1 Axes>"
      ]
     },
     "metadata": {
      "needs_background": "light"
     },
     "output_type": "display_data"
    },
    {
     "data": {
      "image/png": "[encoded data removed]",
      "text/plain": [
       "<Figure size 576x360 with 1 Axes>"
      ]
     },
     "metadata": {
      "needs_background": "light"
     },
     "output_type": "display_data"
    }
   ],
   "source": [
    "plt.figure(0, figsize=(8,5))\n",
    "plt.plot(history.history['loss'])\n",
    "plt.plot(history.history['val_loss'])\n",
    "plt.title('График ошибки')\n",
    "plt.ylabel('Значение')\n",
    "plt.xlabel('Эпоха')\n",
    "plt.legend(['Ошибка (train)', 'Ошибка (test)'])\n",
    "\n",
    "plt.figure(1, figsize=(8,5))\n",
    "plt.plot(history.history['categorical_accuracy'])\n",
    "plt.plot(history.history['val_categorical_accuracy'])\n",
    "plt.title('График точности')\n",
    "plt.ylabel('Значение')\n",
    "plt.xlabel('Эпоха')\n",
    "plt.legend(['Точность (train)', 'Точность (test)'])"
   ]
  },
  {
   "cell_type": "code",
   "execution_count": 100,
   "metadata": {},
   "outputs": [],
   "source": [
    "from pathlib import Path\n",
    "from os import remove"
   ]
  },
  {
   "cell_type": "code",
   "execution_count": 101,
   "metadata": {},
   "outputs": [],
   "source": [
    "file_name = 'nn_model_loss-{loss:.2f}_val_loss-{val_loss:.2f}_acc-{categorical_accuracy:.2f}_val_acc-{val_categorical_accuracy:.2f}.hdf5'\n",
    "\n",
    "def make_save_points(name='save_points', file_name=file_name):\n",
    "    checkpoints_dir = Path('./').joinpath('save_points')\n",
    "    checkpoints_dir.mkdir(exist_ok=True)\n",
    "    \n",
    "    for item in checkpoints_dir.iterdir():\n",
    "        if item.is_file():\n",
    "            print(f'Удаляю {item}')\n",
    "            remove(item)\n",
    "    return str(checkpoints_dir.joinpath(file_name))"
   ]
  },
  {
   "cell_type": "code",
   "execution_count": 102,
   "metadata": {},
   "outputs": [
    {
     "name": "stdout",
     "output_type": "stream",
     "text": [
      "Начинаем обучение\n",
      "Train on 95 samples, validate on 24 samples\n",
      "Epoch 1/300\n",
      "95/95 [==============================] - 1s 7ms/step - loss: 1.5734 - categorical_accuracy: 0.3474 - val_loss: 1.5477 - val_categorical_accuracy: 0.3750\n",
      "Epoch 2/300\n",
      "95/95 [==============================] - 0s 1ms/step - loss: 1.5506 - categorical_accuracy: 0.3474 - val_loss: 1.5327 - val_categorical_accuracy: 0.4167\n",
      "Epoch 3/300\n",
      "95/95 [==============================] - 0s 1ms/step - loss: 1.5363 - categorical_accuracy: 0.5474 - val_loss: 1.5214 - val_categorical_accuracy: 0.6667\n",
      "Epoch 4/300\n",
      "95/95 [==============================] - 0s 867us/step - loss: 1.5246 - categorical_accuracy: 0.7895 - val_loss: 1.5112 - val_categorical_accuracy: 0.8333\n",
      "Epoch 5/300\n",
      "95/95 [==============================] - 0s 783us/step - loss: 1.5142 - categorical_accuracy: 0.8632 - val_loss: 1.5017 - val_categorical_accuracy: 0.9167\n",
      "Epoch 6/300\n",
      "95/95 [==============================] - 0s 1ms/step - loss: 1.5050 - categorical_accuracy: 0.9263 - val_loss: 1.4928 - val_categorical_accuracy: 0.9167\n",
      "Epoch 7/300\n",
      "95/95 [==============================] - ETA: 0s - loss: 1.5235 - categorical_accuracy: 0.89 - 0s 935us/step - loss: 1.4959 - categorical_accuracy: 0.9263 - val_loss: 1.4845 - val_categorical_accuracy: 1.0000\n",
      "Epoch 8/300\n",
      "95/95 [==============================] - 0s 1ms/step - loss: 1.4879 - categorical_accuracy: 0.9368 - val_loss: 1.4766 - val_categorical_accuracy: 0.9583\n",
      "Epoch 9/300\n",
      "95/95 [==============================] - 0s 873us/step - loss: 1.4804 - categorical_accuracy: 0.9579 - val_loss: 1.4687 - val_categorical_accuracy: 1.0000\n",
      "Epoch 10/300\n",
      "95/95 [==============================] - 0s 882us/step - loss: 1.4733 - categorical_accuracy: 0.9579 - val_loss: 1.4620 - val_categorical_accuracy: 1.0000\n",
      "Epoch 11/300\n",
      "95/95 [==============================] - 0s 924us/step - loss: 1.4674 - categorical_accuracy: 0.9579 - val_loss: 1.4563 - val_categorical_accuracy: 0.9583\n",
      "Epoch 12/300\n",
      "95/95 [==============================] - 0s 1ms/step - loss: 1.4621 - categorical_accuracy: 0.9684 - val_loss: 1.4510 - val_categorical_accuracy: 1.0000\n",
      "Epoch 13/300\n",
      "95/95 [==============================] - 0s 898us/step - loss: 1.4577 - categorical_accuracy: 0.9263 - val_loss: 1.4461 - val_categorical_accuracy: 0.9583\n",
      "Epoch 14/300\n",
      "95/95 [==============================] - 0s 1ms/step - loss: 1.4537 - categorical_accuracy: 0.9684 - val_loss: 1.4423 - val_categorical_accuracy: 1.0000\n",
      "Epoch 15/300\n",
      "95/95 [==============================] - 0s 908us/step - loss: 1.4508 - categorical_accuracy: 0.9368 - val_loss: 1.4389 - val_categorical_accuracy: 1.0000\n",
      "Epoch 16/300\n",
      "95/95 [==============================] - 0s 966us/step - loss: 1.4484 - categorical_accuracy: 0.9474 - val_loss: 1.4362 - val_categorical_accuracy: 1.0000\n",
      "Epoch 17/300\n",
      "95/95 [==============================] - 0s 971us/step - loss: 1.4462 - categorical_accuracy: 0.9263 - val_loss: 1.4343 - val_categorical_accuracy: 1.0000\n",
      "Epoch 18/300\n",
      "95/95 [==============================] - 0s 898us/step - loss: 1.4446 - categorical_accuracy: 0.9158 - val_loss: 1.4322 - val_categorical_accuracy: 1.0000\n",
      "Epoch 19/300\n",
      "95/95 [==============================] - 0s 919us/step - loss: 1.4431 - categorical_accuracy: 0.9053 - val_loss: 1.4306 - val_categorical_accuracy: 1.0000\n",
      "Epoch 20/300\n",
      "95/95 [==============================] - 0s 862us/step - loss: 1.4422 - categorical_accuracy: 0.9053 - val_loss: 1.4292 - val_categorical_accuracy: 1.0000\n",
      "Epoch 21/300\n",
      "95/95 [==============================] - 0s 820us/step - loss: 1.4413 - categorical_accuracy: 0.8947 - val_loss: 1.4284 - val_categorical_accuracy: 1.0000\n",
      "Epoch 22/300\n",
      "95/95 [==============================] - 0s 794us/step - loss: 1.4406 - categorical_accuracy: 0.9053 - val_loss: 1.4275 - val_categorical_accuracy: 1.0000\n",
      "Epoch 23/300\n",
      "95/95 [==============================] - 0s 684us/step - loss: 1.4402 - categorical_accuracy: 0.8947 - val_loss: 1.4268 - val_categorical_accuracy: 1.0000\n",
      "Epoch 24/300\n",
      "95/95 [==============================] - 0s 710us/step - loss: 1.4397 - categorical_accuracy: 0.9053 - val_loss: 1.4262 - val_categorical_accuracy: 1.0000\n",
      "Epoch 25/300\n",
      "95/95 [==============================] - 0s 757us/step - loss: 1.4393 - categorical_accuracy: 0.9053 - val_loss: 1.4257 - val_categorical_accuracy: 1.0000\n",
      "Epoch 26/300\n",
      "95/95 [==============================] - 0s 935us/step - loss: 1.4391 - categorical_accuracy: 0.9053 - val_loss: 1.4252 - val_categorical_accuracy: 1.0000\n",
      "Epoch 27/300\n",
      "95/95 [==============================] - 0s 992us/step - loss: 1.4390 - categorical_accuracy: 0.9158 - val_loss: 1.4250 - val_categorical_accuracy: 1.0000\n",
      "Epoch 28/300\n",
      "95/95 [==============================] - 0s 992us/step - loss: 1.4385 - categorical_accuracy: 0.9053 - val_loss: 1.4246 - val_categorical_accuracy: 1.0000\n",
      "Epoch 29/300\n",
      "95/95 [==============================] - 0s 888us/step - loss: 1.4381 - categorical_accuracy: 0.8947 - val_loss: 1.4242 - val_categorical_accuracy: 1.0000\n",
      "Epoch 30/300\n",
      "95/95 [==============================] - 0s 841us/step - loss: 1.4378 - categorical_accuracy: 0.8842 - val_loss: 1.4239 - val_categorical_accuracy: 1.0000\n",
      "Epoch 31/300\n",
      "95/95 [==============================] - 0s 731us/step - loss: 1.4376 - categorical_accuracy: 0.9158 - val_loss: 1.4238 - val_categorical_accuracy: 1.0000\n",
      "Epoch 32/300\n",
      "95/95 [==============================] - 0s 846us/step - loss: 1.4376 - categorical_accuracy: 0.8947 - val_loss: 1.4236 - val_categorical_accuracy: 1.0000\n",
      "Epoch 33/300\n",
      "95/95 [==============================] - 0s 919us/step - loss: 1.4373 - categorical_accuracy: 0.9053 - val_loss: 1.4234 - val_categorical_accuracy: 1.0000\n",
      "Epoch 34/300\n",
      "95/95 [==============================] - 0s 933us/step - loss: 1.4373 - categorical_accuracy: 0.9158 - val_loss: 1.4232 - val_categorical_accuracy: 1.0000\n",
      "Epoch 35/300\n",
      "95/95 [==============================] - 0s 945us/step - loss: 1.4368 - categorical_accuracy: 0.9158 - val_loss: 1.4228 - val_categorical_accuracy: 1.0000\n",
      "Epoch 36/300\n",
      "95/95 [==============================] - 0s 872us/step - loss: 1.4366 - categorical_accuracy: 0.9158 - val_loss: 1.4226 - val_categorical_accuracy: 1.0000\n",
      "Epoch 37/300\n",
      "95/95 [==============================] - 0s 830us/step - loss: 1.4364 - categorical_accuracy: 0.9263 - val_loss: 1.4224 - val_categorical_accuracy: 1.0000\n",
      "Epoch 38/300\n",
      "95/95 [==============================] - 0s 877us/step - loss: 1.4362 - categorical_accuracy: 0.9263 - val_loss: 1.4220 - val_categorical_accuracy: 1.0000\n",
      "Epoch 39/300\n",
      "95/95 [==============================] - 0s 924us/step - loss: 1.4359 - categorical_accuracy: 0.9158 - val_loss: 1.4219 - val_categorical_accuracy: 1.0000\n",
      "Epoch 40/300\n",
      "95/95 [==============================] - 0s 982us/step - loss: 1.4356 - categorical_accuracy: 0.9368 - val_loss: 1.4215 - val_categorical_accuracy: 1.0000\n",
      "Epoch 41/300\n",
      "95/95 [==============================] - 0s 828us/step - loss: 1.4354 - categorical_accuracy: 0.9684 - val_loss: 1.4214 - val_categorical_accuracy: 1.0000\n",
      "Epoch 42/300\n",
      "95/95 [==============================] - 0s 763us/step - loss: 1.4351 - categorical_accuracy: 0.9368 - val_loss: 1.4212 - val_categorical_accuracy: 1.0000\n",
      "Epoch 43/300\n",
      "95/95 [==============================] - 0s 773us/step - loss: 1.4349 - categorical_accuracy: 0.9579 - val_loss: 1.4210 - val_categorical_accuracy: 1.0000\n",
      "Epoch 44/300\n",
      "95/95 [==============================] - 0s 757us/step - loss: 1.4348 - categorical_accuracy: 0.9579 - val_loss: 1.4209 - val_categorical_accuracy: 1.0000\n",
      "Epoch 45/300\n",
      "95/95 [==============================] - 0s 772us/step - loss: 1.4347 - categorical_accuracy: 0.9684 - val_loss: 1.4207 - val_categorical_accuracy: 1.0000\n",
      "Epoch 46/300\n",
      "95/95 [==============================] - 0s 726us/step - loss: 1.4345 - categorical_accuracy: 0.9789 - val_loss: 1.4205 - val_categorical_accuracy: 1.0000\n",
      "Epoch 47/300\n",
      "95/95 [==============================] - 0s 694us/step - loss: 1.4344 - categorical_accuracy: 0.9579 - val_loss: 1.4205 - val_categorical_accuracy: 1.0000\n",
      "Epoch 48/300\n",
      "95/95 [==============================] - 0s 668us/step - loss: 1.4342 - categorical_accuracy: 0.9684 - val_loss: 1.4203 - val_categorical_accuracy: 1.0000\n",
      "Epoch 49/300\n",
      "95/95 [==============================] - 0s 731us/step - loss: 1.4341 - categorical_accuracy: 0.9684 - val_loss: 1.4202 - val_categorical_accuracy: 1.0000\n",
      "Epoch 50/300\n",
      "95/95 [==============================] - 0s 689us/step - loss: 1.4340 - categorical_accuracy: 0.9684 - val_loss: 1.4202 - val_categorical_accuracy: 1.0000\n",
      "Epoch 51/300\n",
      "95/95 [==============================] - 0s 841us/step - loss: 1.4339 - categorical_accuracy: 0.9684 - val_loss: 1.4200 - val_categorical_accuracy: 1.0000\n",
      "Epoch 52/300\n",
      "95/95 [==============================] - 0s 1ms/step - loss: 1.4338 - categorical_accuracy: 0.9684 - val_loss: 1.4201 - val_categorical_accuracy: 1.0000\n",
      "Epoch 53/300\n",
      "95/95 [==============================] - 0s 1ms/step - loss: 1.4336 - categorical_accuracy: 0.9684 - val_loss: 1.4199 - val_categorical_accuracy: 1.0000\n",
      "Epoch 54/300\n",
      "95/95 [==============================] - 0s 867us/step - loss: 1.4335 - categorical_accuracy: 0.9684 - val_loss: 1.4200 - val_categorical_accuracy: 0.9583\n",
      "Epoch 55/300\n",
      "95/95 [==============================] - 0s 1ms/step - loss: 1.4334 - categorical_accuracy: 0.9684 - val_loss: 1.4197 - val_categorical_accuracy: 1.0000\n",
      "Epoch 56/300\n",
      "95/95 [==============================] - 0s 1ms/step - loss: 1.4334 - categorical_accuracy: 0.9684 - val_loss: 1.4196 - val_categorical_accuracy: 0.9583\n",
      "Epoch 57/300\n",
      "95/95 [==============================] - 0s 804us/step - loss: 1.4334 - categorical_accuracy: 0.9684 - val_loss: 1.4197 - val_categorical_accuracy: 0.9583\n"
     ]
    }
   ],
   "source": [
    "print('Начинаем обучение')\n",
    "history = make_nn(x_train.shape[1], y_train.shape[1]).fit(\n",
    "    x=x_train,\n",
    "    y=y_train,\n",
    "    batch_size=3,\n",
    "    epochs=300,\n",
    "    validation_split=0.2,\n",
    "    verbose=1,\n",
    "    callbacks=[\n",
    "        callbacks.History(),\n",
    "        callbacks.EarlyStopping(\n",
    "        monitor='val_categorical_accuracy',\n",
    "        mode='max',\n",
    "        patience=50,\n",
    "        min_delta=0.01),\n",
    "        callbacks.ModelCheckpoint(\n",
    "            make_save_points(file_name=file_name),\n",
    "            monitor='val_categorical_accuracy',\n",
    "            save_best_only=True,\n",
    "            period=5,\n",
    "            mode='max'\n",
    "        )\n",
    "    ]\n",
    ")"
   ]
  },
  {
   "cell_type": "code",
   "execution_count": 103,
   "metadata": {},
   "outputs": [
    {
     "data": {
      "text/plain": [
       "<matplotlib.legend.Legend at 0x1f76c72c1d0>"
      ]
     },
     "execution_count": 103,
     "metadata": {},
     "output_type": "execute_result"
    },
    {
     "data": {
      "image/png": "[encoded data removed]",
      "text/plain": [
       "<Figure size 576x360 with 1 Axes>"
      ]
     },
     "metadata": {
      "needs_background": "light"
     },
     "output_type": "display_data"
    },
    {
     "data": {
      "image/png": "[encoded data removed]",
      "text/plain": [
       "<Figure size 576x360 with 1 Axes>"
      ]
     },
     "metadata": {
      "needs_background": "light"
     },
     "output_type": "display_data"
    }
   ],
   "source": [
    "plt.figure(0, figsize=(8,5))\n",
    "plt.plot(history.history['loss'])\n",
    "plt.plot(history.history['val_loss'])\n",
    "plt.title('График ошибки')\n",
    "plt.ylabel('Значение')\n",
    "plt.xlabel('Эпоха')\n",
    "plt.legend(['Ошибка (train)', 'Ошибка (test)'])\n",
    "\n",
    "plt.figure(1, figsize=(8,5))\n",
    "plt.plot(history.history['categorical_accuracy'])\n",
    "plt.plot(history.history['val_categorical_accuracy'])\n",
    "plt.title('График точности')\n",
    "plt.ylabel('Значение')\n",
    "plt.xlabel('Эпоха')\n",
    "plt.legend(['Точность (train)', 'Точность (test)'])"
   ]
  },
  {
   "cell_type": "code",
   "execution_count": 105,
   "metadata": {},
   "outputs": [
    {
     "name": "stdout",
     "output_type": "stream",
     "text": [
      "119/119 [==============================] - 0s 1ms/step\n",
      "Точность предсказания на тренировочных данных 0.9663865546218487\n",
      "30/30 [==============================] - 0s 132us/step\n",
      "Точность предсказания на тестовых данных 1.0\n"
     ]
    },
    {
     "data": {
      "text/plain": [
       "array([0, 2, 1, 1, 2, 1, 2, 1, 2, 2, 2, 2, 1, 2, 2, 1, 2, 2, 2, 2, 2, 0,\n",
       "       1, 1, 2, 2, 2, 2, 1, 2], dtype=int64)"
      ]
     },
     "execution_count": 105,
     "metadata": {},
     "output_type": "execute_result"
    }
   ],
   "source": [
    "from keras.models import load_model\n",
    "\n",
    "loaded_model = load_model('./save_points/nn_model_loss-1.47_val_loss-1.46_acc-0.96_val_acc-1.00.hdf5')\n",
    "\n",
    "print(f'Точность предсказания на тренировочных данных {loaded_model.evaluate(x_train, y_train)[1]}')\n",
    "print(f'Точность предсказания на тестовых данных {loaded_model.evaluate(x_test, y_test)[1]}')\n",
    "predict = loaded_model.predict_classes(x_test)\n",
    "predict\n"
   ]
  },
  {
   "cell_type": "code",
   "execution_count": 106,
   "metadata": {},
   "outputs": [
    {
     "data": {
      "text/plain": [
       "array(['Iris-setosa', 'Iris-virginica', 'Iris-versicolor',\n",
       "       'Iris-versicolor', 'Iris-virginica', 'Iris-versicolor',\n",
       "       'Iris-virginica', 'Iris-versicolor', 'Iris-virginica',\n",
       "       'Iris-virginica', 'Iris-virginica', 'Iris-virginica',\n",
       "       'Iris-versicolor', 'Iris-virginica', 'Iris-virginica',\n",
       "       'Iris-versicolor', 'Iris-virginica', 'Iris-virginica',\n",
       "       'Iris-virginica', 'Iris-virginica', 'Iris-virginica',\n",
       "       'Iris-setosa', 'Iris-versicolor', 'Iris-versicolor',\n",
       "       'Iris-virginica', 'Iris-virginica', 'Iris-virginica',\n",
       "       'Iris-virginica', 'Iris-versicolor', 'Iris-virginica'],\n",
       "      dtype=object)"
      ]
     },
     "execution_count": 106,
     "metadata": {},
     "output_type": "execute_result"
    }
   ],
   "source": [
    "pipe_y.named_steps['label_encoder'].inverse_transform(predict)"
   ]
  },
  {
   "cell_type": "code",
   "execution_count": 107,
   "metadata": {},
   "outputs": [
    {
     "data": {
      "text/plain": [
       "array([[0.3411029 , 0.27681822, 0.38207892],\n",
       "       [0.2561764 , 0.51394224, 0.22988138],\n",
       "       [0.2245183 , 0.5126409 , 0.26284084],\n",
       "       [0.26272684, 0.47104043, 0.26623282],\n",
       "       [0.34943023, 0.29838577, 0.35218397],\n",
       "       [0.2251585 , 0.5950273 , 0.17981414],\n",
       "       [0.3537024 , 0.30652285, 0.3397748 ],\n",
       "       [0.26101473, 0.4666564 , 0.27232894],\n",
       "       [0.31363913, 0.33632627, 0.3500345 ],\n",
       "       [0.30778167, 0.318669  , 0.37354934],\n",
       "       [0.29392105, 0.3546234 , 0.35145563],\n",
       "       [0.24221875, 0.54408395, 0.2136973 ],\n",
       "       [0.27585617, 0.49274945, 0.23139437],\n",
       "       [0.3668954 , 0.25644675, 0.37665784],\n",
       "       [0.32565948, 0.29167044, 0.3826701 ],\n",
       "       [0.35527998, 0.2660851 , 0.37863496],\n",
       "       [0.2857292 , 0.31986287, 0.3944079 ],\n",
       "       [0.3436044 , 0.27482918, 0.3815665 ],\n",
       "       [0.24227875, 0.4990491 , 0.25867212],\n",
       "       [0.23480767, 0.49872485, 0.26646745],\n",
       "       [0.2314858 , 0.5488242 , 0.21968997],\n",
       "       [0.3124984 , 0.34046525, 0.34703636],\n",
       "       [0.31131622, 0.29716936, 0.39151445],\n",
       "       [0.3039672 , 0.28259373, 0.4134391 ],\n",
       "       [0.24210328, 0.5294121 , 0.22848465],\n",
       "       [0.24235065, 0.5451587 , 0.2124907 ],\n",
       "       [0.34826338, 0.30013442, 0.3516022 ],\n",
       "       [0.3136343 , 0.31503078, 0.37133488],\n",
       "       [0.2636928 , 0.30055088, 0.43575627],\n",
       "       [0.29537344, 0.31681377, 0.3878128 ],\n",
       "       [0.33010843, 0.3242015 , 0.3456901 ],\n",
       "       [0.23769453, 0.48663735, 0.27566814],\n",
       "       [0.26172483, 0.47425252, 0.26402265],\n",
       "       [0.35502476, 0.25661027, 0.388365  ],\n",
       "       [0.29228637, 0.29925528, 0.40845832],\n",
       "       [0.23090218, 0.49162954, 0.27746826],\n",
       "       [0.33988252, 0.27916706, 0.38095036],\n",
       "       [0.2842489 , 0.34560454, 0.37014657],\n",
       "       [0.30155978, 0.3050609 , 0.39337933],\n",
       "       [0.29662377, 0.2851967 , 0.41817954],\n",
       "       [0.3135009 , 0.28084013, 0.40565893],\n",
       "       [0.25613502, 0.569806  , 0.17405902],\n",
       "       [0.3103416 , 0.29793644, 0.391722  ],\n",
       "       [0.2451309 , 0.5260856 , 0.22878349],\n",
       "       [0.28055516, 0.32509637, 0.39434847],\n",
       "       [0.3476648 , 0.29580468, 0.35653052],\n",
       "       [0.32563162, 0.3397127 , 0.33465573],\n",
       "       [0.33302   , 0.26647347, 0.4005065 ],\n",
       "       [0.30365357, 0.3418826 , 0.35446382],\n",
       "       [0.20987546, 0.5964173 , 0.19370724],\n",
       "       [0.24744087, 0.5426403 , 0.20991878],\n",
       "       [0.35798028, 0.28074998, 0.36126977],\n",
       "       [0.35664997, 0.3389838 , 0.30436623],\n",
       "       [0.3324987 , 0.27448422, 0.39301705],\n",
       "       [0.24326003, 0.5154472 , 0.2412928 ],\n",
       "       [0.24908793, 0.4926476 , 0.25826445],\n",
       "       [0.30346227, 0.32421714, 0.37232056],\n",
       "       [0.30984813, 0.32747665, 0.36267525],\n",
       "       [0.24627136, 0.48380277, 0.26992592],\n",
       "       [0.3566806 , 0.26541603, 0.3779033 ],\n",
       "       [0.3096034 , 0.28719956, 0.403197  ],\n",
       "       [0.34720874, 0.26237866, 0.3904126 ],\n",
       "       [0.35144374, 0.31054893, 0.33800736],\n",
       "       [0.22853321, 0.53606975, 0.23539701],\n",
       "       [0.2834943 , 0.35169062, 0.36481518],\n",
       "       [0.22456242, 0.5564155 , 0.21902213],\n",
       "       [0.31019977, 0.29642037, 0.39337987],\n",
       "       [0.26062715, 0.508475  , 0.23089784],\n",
       "       [0.29733592, 0.3284361 , 0.37422797],\n",
       "       [0.3760086 , 0.26344013, 0.36055136],\n",
       "       [0.3499708 , 0.33546364, 0.31456557],\n",
       "       [0.25876728, 0.53841823, 0.20281447],\n",
       "       [0.32967094, 0.26822573, 0.40210333],\n",
       "       [0.32090902, 0.28124994, 0.39784107],\n",
       "       [0.322427  , 0.287707  , 0.38986596],\n",
       "       [0.2936915 , 0.31555718, 0.39075136],\n",
       "       [0.32587034, 0.28856358, 0.3855661 ],\n",
       "       [0.35787272, 0.26599026, 0.37613696],\n",
       "       [0.2307129 , 0.51632553, 0.25296155],\n",
       "       [0.34326613, 0.26500773, 0.3917261 ],\n",
       "       [0.25112408, 0.49705574, 0.2518201 ],\n",
       "       [0.22218597, 0.5466574 , 0.2311567 ],\n",
       "       [0.36405632, 0.27367184, 0.36227188],\n",
       "       [0.32289523, 0.3298968 , 0.34720796],\n",
       "       [0.28703243, 0.32083055, 0.39213702],\n",
       "       [0.32036063, 0.2625706 , 0.41706878],\n",
       "       [0.33533   , 0.26299936, 0.40167066],\n",
       "       [0.30887914, 0.2716461 , 0.41947478],\n",
       "       [0.24834803, 0.5238475 , 0.2278044 ],\n",
       "       [0.30910856, 0.2905309 , 0.40036058],\n",
       "       [0.34524286, 0.3252357 , 0.32952148],\n",
       "       [0.25027925, 0.51740813, 0.23231252],\n",
       "       [0.30302718, 0.3153022 , 0.38167062],\n",
       "       [0.34786087, 0.32701752, 0.32512158],\n",
       "       [0.30359727, 0.30983832, 0.38656437],\n",
       "       [0.25115404, 0.48391867, 0.26492733],\n",
       "       [0.348304  , 0.27586892, 0.37582704],\n",
       "       [0.29395938, 0.29786316, 0.40817744],\n",
       "       [0.25040415, 0.54841226, 0.20118362],\n",
       "       [0.2470453 , 0.519636  , 0.23331872],\n",
       "       [0.26090553, 0.4967701 , 0.24232438],\n",
       "       [0.30658528, 0.3293145 , 0.36410028],\n",
       "       [0.33035752, 0.28994927, 0.37969324],\n",
       "       [0.24908793, 0.4926476 , 0.25826445],\n",
       "       [0.29746506, 0.338559  , 0.36397597],\n",
       "       [0.23438148, 0.53810245, 0.22751604],\n",
       "       [0.25089753, 0.5056393 , 0.24346313],\n",
       "       [0.2920672 , 0.33418232, 0.3737505 ],\n",
       "       [0.3369161 , 0.3280977 , 0.33498624],\n",
       "       [0.3531123 , 0.32133493, 0.32555276],\n",
       "       [0.3660673 , 0.32567936, 0.30825323],\n",
       "       [0.28052747, 0.31508875, 0.40438384],\n",
       "       [0.26494884, 0.47538865, 0.2596625 ],\n",
       "       [0.31718364, 0.29653102, 0.38628533],\n",
       "       [0.2557472 , 0.49056143, 0.25369143],\n",
       "       [0.30509952, 0.2929175 , 0.40198296],\n",
       "       [0.33281332, 0.28040034, 0.38678634],\n",
       "       [0.3347483 , 0.27310517, 0.39214653],\n",
       "       [0.35011175, 0.29700923, 0.3528791 ]], dtype=float32)"
      ]
     },
     "execution_count": 107,
     "metadata": {},
     "output_type": "execute_result"
    }
   ],
   "source": [
    "loaded_model.predict(x_train)"
   ]
  },
  {
   "cell_type": "code",
   "execution_count": 124,
   "metadata": {},
   "outputs": [],
   "source": [
    "def make_mashgird(x,y,h=0.2):\n",
    "    x_min, x_max = x.min() -1, x.max() +1\n",
    "    y_min, y_max = y.min() -1, y.max() +1\n",
    "    xx, yy = np.meshgrid(np.arange(x_min, x_max, h),\n",
    "                        np.arange(y_min, y_max, h))\n",
    "    return xx,yy\n",
    "    \n",
    "def plot_contours(ax, clf, xx,yy, **params):\n",
    "    z = clf(xx, yy)\n",
    "    z = z.reshape(xx.shape)\n",
    "    out = ax.contourf(xx, yy, z, **params)\n",
    "    return out\n",
    "    "
   ]
  },
  {
   "cell_type": "code",
   "execution_count": 128,
   "metadata": {},
   "outputs": [
    {
     "name": "stdout",
     "output_type": "stream",
     "text": [
      "(149, 2)\n"
     ]
    },
    {
     "data": {
      "text/plain": [
       "<matplotlib.collections.PathCollection at 0x1f75c0f1be0>"
      ]
     },
     "execution_count": 128,
     "metadata": {},
     "output_type": "execute_result"
    },
    {
     "data": {
      "image/png": "[encoded data removed]",
      "text/plain": [
       "<Figure size 576x576 with 1 Axes>"
      ]
     },
     "metadata": {
      "needs_background": "light"
     },
     "output_type": "display_data"
    }
   ],
   "source": [
    "from sklearn.decomposition import PCA\n",
    "pipe_y_mini = pipeline.Pipeline([\n",
    "    ('to_matrix', PandasToNumpy()),\n",
    "    ('label_encoder', ModifyLabelEncoder())\n",
    "])\n",
    "\n",
    "y = pipe_y_mini.fit_transform(outletless_data_y)\n",
    "x = number_data_x\n",
    "\n",
    "pca = PCA(n_components=2)\n",
    "\n",
    "_x = pca.fit_transform(x)\n",
    "print(_x.shape)\n",
    "\n",
    "clf_predict = lambda xx, yy: model.predict_classes(pca.inverse_transform(np.c_[xx.ravel(),yy.ravel()]))\n",
    "\n",
    "x0, x1 = _x[:, 0], _x[:, 1]\n",
    "xx, yy = make_mashgird(x0, x1)\n",
    "\n",
    "clf_predict(xx, yy)\n",
    "\n",
    "fig, ax = plt.subplots(1, 1, figsize=(8,8))\n",
    "plot_contours(ax, clf_predict, xx, yy, cmap=plt.cm.coolwarm, alpha=0.8)\n",
    "ax.scatter(x0,x1, c=y, cmap=plt.cm.coolwarm, s=20, edgecolors='k')"
   ]
  },
  {
   "cell_type": "code",
   "execution_count": null,
   "metadata": {},
   "outputs": [],
   "source": []
  }
 ],
 "metadata": {
  "kernelspec": {
   "display_name": "Python 3",
   "language": "python",
   "name": "python3"
  },
  "language_info": {
   "codemirror_mode": {
    "name": "ipython",
    "version": 3
   },
   "file_extension": ".py",
   "mimetype": "text/x-python",
   "name": "python",
   "nbconvert_exporter": "python",
   "pygments_lexer": "ipython3",
   "version": "3.6.7"
  }
 },
 "nbformat": 4,
 "nbformat_minor": 2
}
